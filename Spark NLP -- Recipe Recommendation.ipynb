{
 "cells": [
  {
   "cell_type": "markdown",
   "metadata": {
    "application/vnd.databricks.v1+cell": {
     "cellMetadata": {
      "byteLimit": 2048000,
      "rowLimit": 10000
     },
     "inputWidgets": {},
     "nuid": "a932f10a-363b-44dc-bc4c-344abd7e180c",
     "showTitle": false,
     "title": ""
    }
   },
   "source": [
    "Note: The recipe recommendation system is built upon 125,000 recipes using NLP, which requires a large amount of computing resources. Therefore, it is advised to run this program in Databricks. If the computing resources are limited, the program's running speed may be slow."
   ]
  },
  {
   "cell_type": "markdown",
   "metadata": {
    "application/vnd.databricks.v1+cell": {
     "cellMetadata": {
      "byteLimit": 2048000,
      "rowLimit": 10000
     },
     "inputWidgets": {},
     "nuid": "675f08e4-acb6-4a70-a710-5c9f1bc20b18",
     "showTitle": false,
     "title": ""
    }
   },
   "source": [
    "#### Read in Recipe data"
   ]
  },
  {
   "cell_type": "code",
   "execution_count": 0,
   "metadata": {
    "application/vnd.databricks.v1+cell": {
     "cellMetadata": {
      "byteLimit": 2048000,
      "rowLimit": 10000
     },
     "inputWidgets": {},
     "nuid": "314bb963-7612-4b2e-83e3-112ea74b9e64",
     "showTitle": false,
     "title": ""
    }
   },
   "outputs": [],
   "source": [
    "file1 = \"dbfs:/FileStore/shared_uploads/hui.yun@sjsu.edu/recipes_raw_nosource_ar.json\"\n",
    "file2 = \"dbfs:/FileStore/shared_uploads/hui.yun@sjsu.edu/recipes_raw_nosource_epi.json\"\n",
    "file3 = \"dbfs:/FileStore/shared_uploads/hui.yun@sjsu.edu/recipes_raw_nosource_fn.json\""
   ]
  },
  {
   "cell_type": "code",
   "execution_count": 0,
   "metadata": {
    "application/vnd.databricks.v1+cell": {
     "cellMetadata": {
      "byteLimit": 2048000,
      "rowLimit": 10000
     },
     "inputWidgets": {},
     "nuid": "b7cda08c-0105-4246-9adf-e54d6df7b127",
     "showTitle": false,
     "title": ""
    }
   },
   "outputs": [],
   "source": [
    "from pyspark import SparkContext\n",
    "from pyspark.sql import SparkSession\n",
    "import json\n",
    "from pyspark.sql.functions import lit\n",
    "from pyspark.sql.functions import concat_ws\n",
    "\n",
    "#sc = SparkContext()\n",
    "#spark = SparkSession.builder.appName(\"Convert RDD to DataFrame\").getOrCreate()"
   ]
  },
  {
   "cell_type": "code",
   "execution_count": 0,
   "metadata": {
    "application/vnd.databricks.v1+cell": {
     "cellMetadata": {
      "byteLimit": 2048000,
      "rowLimit": 10000
     },
     "inputWidgets": {},
     "nuid": "df0bcf07-ec80-425b-8389-3c50111ded31",
     "showTitle": false,
     "title": ""
    }
   },
   "outputs": [],
   "source": [
    "# read in receipe data\n",
    "def read_json(f):\n",
    "    df = sc.wholeTextFiles(f).map(lambda x: json.loads(x[1])).flatMap(lambda x: x.values()).toDF()\n",
    "    return df\n",
    "\n",
    "f1 = read_json(file1)\n",
    "f2 = read_json(file2)\n",
    "f3 = read_json(file3)"
   ]
  },
  {
   "cell_type": "code",
   "execution_count": 0,
   "metadata": {
    "application/vnd.databricks.v1+cell": {
     "cellMetadata": {
      "byteLimit": 2048000,
      "rowLimit": 10000
     },
     "inputWidgets": {},
     "nuid": "576f0043-c9de-4075-9d6d-a6fd786e2a06",
     "showTitle": false,
     "title": ""
    }
   },
   "outputs": [],
   "source": [
    "df = f1.union(f2).union(f3)"
   ]
  },
  {
   "cell_type": "markdown",
   "metadata": {
    "application/vnd.databricks.v1+cell": {
     "cellMetadata": {
      "byteLimit": 2048000,
      "rowLimit": 10000
     },
     "inputWidgets": {},
     "nuid": "63fc06e8-5fb1-4038-a625-e90691f61615",
     "showTitle": false,
     "title": ""
    }
   },
   "source": [
    "Recipe DataFrame Output"
   ]
  },
  {
   "cell_type": "code",
   "execution_count": 0,
   "metadata": {
    "application/vnd.databricks.v1+cell": {
     "cellMetadata": {
      "byteLimit": 2048000,
      "rowLimit": 10000
     },
     "inputWidgets": {},
     "nuid": "554e6fa1-af4d-41af-b8c8-87b8922ad14a",
     "showTitle": false,
     "title": ""
    }
   },
   "outputs": [
    {
     "name": "stdout",
     "output_type": "stream",
     "text": [
      "+--------------------+--------------------+--------------------+--------------------+\n",
      "|         ingredients|        instructions|        picture_link|               title|\n",
      "+--------------------+--------------------+--------------------+--------------------+\n",
      "|[4 skinless, bone...|Place the chicken...|55lznCYBbs2mT8BTx...|Slow Cooker Chick...|\n",
      "|[2 (10.75 ounce) ...|In a slow cooker,...|QyrvGdGNMBA2lDdci...|Awesome Slow Cook...|\n",
      "|[1/2 cup packed b...|Preheat oven to 3...|LVW1DI0vtlCrpAhNS...|Brown Sugar Meatloaf|\n",
      "|[1 cup butter, so...|Preheat oven to 3...|0SO5kdWOV94j6EfAV...|Best Chocolate Ch...|\n",
      "|[8 ounces whole w...|Preheat oven to 3...|YCnbhplMgiraW4rUX...|Homemade Mac and ...|\n",
      "|[2 cups all-purpo...|Preheat oven to 3...|jRnWGDXDdyOg3rta4...| Banana Banana Bread|\n",
      "|[For potato crust...|Bring a large sau...|aUca10AaD8T2yYvcL...|Chef John's Fishe...|\n",
      "|[3 cups all-purpo...|Grease and flour ...|YdgEVyLVffZgh9NZP...|Mom's Zucchini Bread|\n",
      "|[1 1/2 cups butte...|In a large bowl, ...|UrgvDGu4roLiho160...|The Best Rolled S...|\n",
      "|[Sauce: ADVERTISE...|Whisk ketchup, ch...|OFp6yXFwzlrkMQ5ST...|Singapore Chili C...|\n",
      "|[1 (15 ounce) can...|Preheat oven to 3...|bhIlNeSZ4DJw12AqM...|Downeast Maine Pu...|\n",
      "|[2 cups all-purpo...|Preheat the oven ...|EmmrsVyOmMlydE188...|Best Big, Fat, Ch...|\n",
      "|[1 pound cauliflo...|Preheat oven to 3...|2TsioRcazbkIxICdD...|Aimee's Mashed Ca...|\n",
      "|[1 1/2 pounds thi...|Place bacon in a ...|oSTtB5z6PHj5hGqwP...|     Irish Lamb Stew|\n",
      "|[1 1/2 cups all-p...|Preheat oven to 4...|fnRIXaZevA9/KXRkg...|To Die For Bluebe...|\n",
      "|[1/2 cup Parmesan...|Preheat your oven...|8EYp6Ol.jsDv7u4PQ...|Broiled Tilapia P...|\n",
      "|[4 1/2 cups all-p...|Preheat oven to 3...|PqQB4r./GIiG1AqoX...|Award Winning Sof...|\n",
      "|[1 pound sweet It...|In a Dutch oven, ...|MwTU49F./0X4dCuRQ...|World's Best Lasagna|\n",
      "|[1/2 cup butter A...|Preheat oven to 3...|6AyX9Y/Hh582pLBPW...|       Best Brownies|\n",
      "|[1/2 cup white su...|Preheat oven to 3...|ObgOhw2nfJn.uyYHn...|    Irish Soda Bread|\n",
      "+--------------------+--------------------+--------------------+--------------------+\n",
      "only showing top 20 rows\n",
      "\n"
     ]
    }
   ],
   "source": [
    "df.show()"
   ]
  },
  {
   "cell_type": "markdown",
   "metadata": {
    "application/vnd.databricks.v1+cell": {
     "cellMetadata": {
      "byteLimit": 2048000,
      "rowLimit": 10000
     },
     "inputWidgets": {},
     "nuid": "567a2201-5db8-410a-897e-69b8ff9c22b7",
     "showTitle": false,
     "title": ""
    }
   },
   "source": [
    "Original Ingredients Format"
   ]
  },
  {
   "cell_type": "code",
   "execution_count": 0,
   "metadata": {
    "application/vnd.databricks.v1+cell": {
     "cellMetadata": {
      "byteLimit": 2048000,
      "rowLimit": 10000
     },
     "inputWidgets": {},
     "nuid": "6e0d4241-2792-4a49-8583-d52cd49e880a",
     "showTitle": false,
     "title": ""
    }
   },
   "outputs": [
    {
     "name": "stdout",
     "output_type": "stream",
     "text": [
      "Row(ingredients=['4 skinless, boneless chicken breast halves ADVERTISEMENT', '2 tablespoons butter ADVERTISEMENT', '2 (10.75 ounce) cans condensed cream of chicken soup ADVERTISEMENT', '1 onion, finely diced ADVERTISEMENT', '2 (10 ounce) packages refrigerated biscuit dough, torn into pieces ADVERTISEMENT', 'ADVERTISEMENT'])\n",
      "Row(ingredients=['2 (10.75 ounce) cans condensed cream of mushroom soup ADVERTISEMENT', '1 (1 ounce) package dry onion soup mix ADVERTISEMENT', '1 1/4 cups water ADVERTISEMENT', '5 1/2 pounds pot roast ADVERTISEMENT', 'ADVERTISEMENT'])\n",
      "Row(ingredients=['1/2 cup packed brown sugar ADVERTISEMENT', '1/2 cup ketchup ADVERTISEMENT', '1 1/2 pounds lean ground beef ADVERTISEMENT', '3/4 cup milk ADVERTISEMENT', '2 eggs ADVERTISEMENT', '1 1/2 teaspoons salt ADVERTISEMENT', '1/4 teaspoon ground black pepper ADVERTISEMENT', '1 small onion, chopped ADVERTISEMENT', '1/4 teaspoon ground ginger ADVERTISEMENT', '3/4 cup finely crushed saltine cracker crumbs ADVERTISEMENT', 'ADVERTISEMENT'])\n",
      "Row(ingredients=['1 cup butter, softened ADVERTISEMENT', '1 cup white sugar ADVERTISEMENT', '1 cup packed brown sugar ADVERTISEMENT', '2 eggs ADVERTISEMENT', '2 teaspoons vanilla extract ADVERTISEMENT', '3 cups all-purpose flour ADVERTISEMENT', '1 teaspoon baking soda ADVERTISEMENT', '2 teaspoons hot water ADVERTISEMENT', '1/2 teaspoon salt ADVERTISEMENT', '2 cups semisweet chocolate chips ADVERTISEMENT', '1 cup chopped walnuts ADVERTISEMENT', 'ADVERTISEMENT'])\n",
      "Row(ingredients=['8 ounces whole wheat rotini pasta ADVERTISEMENT', '3 cups fresh broccoli florets ADVERTISEMENT', '1 medium onion, chopped ADVERTISEMENT', '3 cloves garlic, minced ADVERTISEMENT', '4 tablespoons butter, divided ADVERTISEMENT', '2 tablespoons all-purpose flour ADVERTISEMENT', '1/4 teaspoon salt ADVERTISEMENT', '1/8 teaspoon ground black pepper ADVERTISEMENT', '2 1/2 cups milk ADVERTISEMENT', '8 ounces Cheddar cheese, shredded ADVERTISEMENT', '4 ounces reduced-fat cream cheese, cubed and softened ADVERTISEMENT', '1/2 cup fine dry Italian-seasoned bread crumbs ADVERTISEMENT', 'Reynolds Wrap® Non Stick Aluminum Foil ADVERTISEMENT', 'ADVERTISEMENT'])\n",
      "Row(ingredients=['2 cups all-purpose flour ADVERTISEMENT', '1 teaspoon baking soda ADVERTISEMENT', '1/4 teaspoon salt ADVERTISEMENT', '1/2 cup butter ADVERTISEMENT', '3/4 cup brown sugar ADVERTISEMENT', '2 eggs, beaten ADVERTISEMENT', '2 1/3 cups mashed overripe bananas ADVERTISEMENT', 'ADVERTISEMENT'])\n",
      "Row(ingredients=['For potato crust: ADVERTISEMENT', '3 russet potatoes, peeled and cut into chunks ADVERTISEMENT', '3 tablespoons butter ADVERTISEMENT', '1 pinch freshly grated nutmeg ADVERTISEMENT', 'salt and ground black pepper to taste ADVERTISEMENT', '1 pinch cayenne pepper, or to taste ADVERTISEMENT', '1/2 cup milk ADVERTISEMENT', 'For the spinach: ADVERTISEMENT', '2 teaspoons olive oil ADVERTISEMENT', '12 ounces baby spinach leaves ADVERTISEMENT', 'For the sauce: ADVERTISEMENT', '3 tablespoons butter ADVERTISEMENT', '3 tablespoons all-purpose flour ADVERTISEMENT', '2 cloves garlic, minced ADVERTISEMENT', '2 cups cold milk, divided ADVERTISEMENT', '2 teaspoons lemon zest ADVERTISEMENT', 'For the rest: ADVERTISEMENT', '1 tablespoon butter ADVERTISEMENT', 'salt and ground black pepper to taste ADVERTISEMENT', '1 pinch cayenne pepper, or to taste ADVERTISEMENT', '2 pounds boneless cod fillets ADVERTISEMENT', '1/2 lemon, juiced ADVERTISEMENT', '1 tablespoon chopped fresh chives for garnish ADVERTISEMENT', 'ADVERTISEMENT'])\n",
      "Row(ingredients=['3 cups all-purpose flour ADVERTISEMENT', '1 teaspoon salt ADVERTISEMENT', '1 teaspoon baking soda ADVERTISEMENT', '1 teaspoon baking powder ADVERTISEMENT', '1 tablespoon ground cinnamon ADVERTISEMENT', '3 eggs ADVERTISEMENT', '1 cup vegetable oil ADVERTISEMENT', '2 1/4 cups white sugar ADVERTISEMENT', '3 teaspoons vanilla extract ADVERTISEMENT', '2 cups grated zucchini ADVERTISEMENT', '1 cup chopped walnuts ADVERTISEMENT', 'ADVERTISEMENT'])\n",
      "Row(ingredients=['1 1/2 cups butter, softened ADVERTISEMENT', '2 cups white sugar ADVERTISEMENT', '4 eggs ADVERTISEMENT', '1 teaspoon vanilla extract ADVERTISEMENT', '5 cups all-purpose flour ADVERTISEMENT', '2 teaspoons baking powder ADVERTISEMENT', '1 teaspoon salt ADVERTISEMENT', 'ADVERTISEMENT'])\n",
      "Row(ingredients=['Sauce: ADVERTISEMENT', '1/2 cup ketchup ADVERTISEMENT', '1/2 cup chicken broth ADVERTISEMENT', '1 large egg ADVERTISEMENT', '2 tablespoons soy sauce ADVERTISEMENT', '2 tablespoons chile-garlic sauce (such as sambal oelek) ADVERTISEMENT', '1 tablespoon oyster sauce ADVERTISEMENT', '1 tablespoon tamarind paste ADVERTISEMENT', '2 teaspoons fish sauce ADVERTISEMENT', '2 teaspoons palm sugar ADVERTISEMENT', '1/4 cup minced shallot ADVERTISEMENT', '6 cloves garlic, minced ADVERTISEMENT', '2 tablespoons vegetable oil, or more as needed ADVERTISEMENT', '2 tablespoons minced fresh ginger root ADVERTISEMENT', '1 tablespoon minced serrano pepper ADVERTISEMENT', '2 cooked Dungeness crabs, cleaned and cracked ADVERTISEMENT', '2 tablespoons chopped fresh cilantro ADVERTISEMENT', '2 tablespoons sliced green onion (green part only) ADVERTISEMENT', 'ADVERTISEMENT'])\n",
      "Row(ingredients=['1 (15 ounce) can pumpkin puree ADVERTISEMENT', '4 eggs ADVERTISEMENT', '1 cup vegetable oil ADVERTISEMENT', '2/3 cup water ADVERTISEMENT', '3 cups white sugar ADVERTISEMENT', '3 1/2 cups all-purpose flour ADVERTISEMENT', '2 teaspoons baking soda ADVERTISEMENT', '1 1/2 teaspoons salt ADVERTISEMENT', '1 teaspoon ground cinnamon ADVERTISEMENT', '1 teaspoon ground nutmeg ADVERTISEMENT', '1/2 teaspoon ground cloves ADVERTISEMENT', '1/4 teaspoon ground ginger ADVERTISEMENT', 'ADVERTISEMENT'])\n",
      "Row(ingredients=['2 cups all-purpose flour ADVERTISEMENT', '1/2 teaspoon baking soda ADVERTISEMENT', '1/2 teaspoon salt ADVERTISEMENT', '3/4 cup unsalted butter, melted ADVERTISEMENT', '1 cup packed brown sugar ADVERTISEMENT', '1/2 cup white sugar ADVERTISEMENT', '1 tablespoon vanilla extract ADVERTISEMENT', '1 egg ADVERTISEMENT', '1 egg yolk ADVERTISEMENT', '2 cups semisweet chocolate chips ADVERTISEMENT', 'ADVERTISEMENT'])\n",
      "Row(ingredients=['1 pound cauliflower florets ADVERTISEMENT', '1/4 cup mashed potato flakes ADVERTISEMENT', '1/4 cup low-fat milk ADVERTISEMENT', '2 tablespoons margarine ADVERTISEMENT', 'salt and ground black pepper to taste ADVERTISEMENT', '1/4 cup shredded reduced-fat Cheddar cheese ADVERTISEMENT', 'ADVERTISEMENT'])\n",
      "Row(ingredients=['1 1/2 pounds thickly sliced bacon, diced ADVERTISEMENT', '6 pounds boneless lamb shoulder, cut into 2 inch pieces ADVERTISEMENT', '1/2 teaspoon salt ADVERTISEMENT', '1/2 teaspoon ground black pepper ADVERTISEMENT', '1/2 cup all-purpose flour ADVERTISEMENT', '3 cloves garlic, minced ADVERTISEMENT', '1 large onion, chopped ADVERTISEMENT', '1/2 cup water ADVERTISEMENT', '4 cups beef stock ADVERTISEMENT', '2 teaspoons white sugar ADVERTISEMENT', '4 cups diced carrots ADVERTISEMENT', '2 large onions, cut into bite-size pieces ADVERTISEMENT', '3 potatoes ADVERTISEMENT', '1 teaspoon dried thyme ADVERTISEMENT', '2 bay leaves ADVERTISEMENT', '1 cup white wine ADVERTISEMENT', 'ADVERTISEMENT'])\n",
      "Row(ingredients=['1 1/2 cups all-purpose flour ADVERTISEMENT', '3/4 cup white sugar ADVERTISEMENT', '1/2 teaspoon salt ADVERTISEMENT', '2 teaspoons baking powder ADVERTISEMENT', '1/3 cup vegetable oil ADVERTISEMENT', '1 egg ADVERTISEMENT', '1/3 cup milk ADVERTISEMENT', '1 cup fresh blueberries ADVERTISEMENT', '1/2 cup white sugar ADVERTISEMENT', '1/3 cup all-purpose flour ADVERTISEMENT', '1/4 cup butter, cubed ADVERTISEMENT', '1 1/2 teaspoons ground cinnamon ADVERTISEMENT', 'ADVERTISEMENT'])\n",
      "Row(ingredients=['1/2 cup Parmesan cheese ADVERTISEMENT', '1/4 cup butter, softened ADVERTISEMENT', '3 tablespoons mayonnaise ADVERTISEMENT', '2 tablespoons fresh lemon juice ADVERTISEMENT', '1/4 teaspoon dried basil ADVERTISEMENT', '1/4 teaspoon ground black pepper ADVERTISEMENT', '1/8 teaspoon onion powder ADVERTISEMENT', '1/8 teaspoon celery salt ADVERTISEMENT', '2 pounds tilapia fillets ADVERTISEMENT', 'ADVERTISEMENT'])\n",
      "Row(ingredients=['4 1/2 cups all-purpose flour ADVERTISEMENT', '2 teaspoons baking soda ADVERTISEMENT', '2 cups butter, softened ADVERTISEMENT', '1 1/2 cups packed brown sugar ADVERTISEMENT', '1/2 cup white sugar ADVERTISEMENT', '2 (3.4 ounce) packages instant vanilla pudding mix ADVERTISEMENT', '4 eggs ADVERTISEMENT', '2 teaspoons vanilla extract ADVERTISEMENT', '4 cups semisweet chocolate chips ADVERTISEMENT', '2 cups chopped walnuts (optional) ADVERTISEMENT', 'ADVERTISEMENT'])\n",
      "Row(ingredients=['1 pound sweet Italian sausage ADVERTISEMENT', '3/4 pound lean ground beef ADVERTISEMENT', '1/2 cup minced onion ADVERTISEMENT', '2 cloves garlic, crushed ADVERTISEMENT', '1 (28 ounce) can crushed tomatoes ADVERTISEMENT', '2 (6 ounce) cans tomato paste ADVERTISEMENT', '2 (6.5 ounce) cans canned tomato sauce ADVERTISEMENT', '1/2 cup water ADVERTISEMENT', '2 tablespoons white sugar ADVERTISEMENT', '1 1/2 teaspoons dried basil leaves ADVERTISEMENT', '1/2 teaspoon fennel seeds ADVERTISEMENT', '1 teaspoon Italian seasoning ADVERTISEMENT', '1 tablespoon salt ADVERTISEMENT', '1/4 teaspoon ground black pepper ADVERTISEMENT', '4 tablespoons chopped fresh parsley ADVERTISEMENT', '12 lasagna noodles ADVERTISEMENT', '16 ounces ricotta cheese ADVERTISEMENT', '1 egg ADVERTISEMENT', '1/2 teaspoon salt ADVERTISEMENT', '3/4 pound mozzarella cheese, sliced ADVERTISEMENT', '3/4 cup grated Parmesan cheese ADVERTISEMENT', 'ADVERTISEMENT'])\n",
      "Row(ingredients=['1/2 cup butter ADVERTISEMENT', '1 cup white sugar ADVERTISEMENT', '2 eggs ADVERTISEMENT', '1 teaspoon vanilla extract ADVERTISEMENT', '1/3 cup unsweetened cocoa powder ADVERTISEMENT', '1/2 cup all-purpose flour ADVERTISEMENT', '1/4 teaspoon salt ADVERTISEMENT', '1/4 teaspoon baking powder ADVERTISEMENT', 'Frosting: ADVERTISEMENT', '3 tablespoons butter, softened ADVERTISEMENT', '3 tablespoons unsweetened cocoa powder ADVERTISEMENT', '1 tablespoon honey ADVERTISEMENT', '1 teaspoon vanilla extract ADVERTISEMENT', \"1 cup confectioners' sugar ADVERTISEMENT\", 'ADVERTISEMENT'])\n",
      "Row(ingredients=['1/2 cup white sugar ADVERTISEMENT', '4 cups all-purpose flour ADVERTISEMENT', '2 teaspoons baking powder ADVERTISEMENT', '1 teaspoon baking soda ADVERTISEMENT', '3/4 teaspoon salt ADVERTISEMENT', '3 cups raisins ADVERTISEMENT', '1 tablespoon caraway seeds ADVERTISEMENT', '2 eggs, lightly beaten ADVERTISEMENT', '1 1/4 cups buttermilk ADVERTISEMENT', '1 cup sour cream ADVERTISEMENT', 'ADVERTISEMENT'])\n",
      "Row(ingredients=['3 1/2 cups peeled and diced potatoes ADVERTISEMENT', '1/3 cup diced celery ADVERTISEMENT', '1/3 cup finely chopped onion ADVERTISEMENT', '3/4 cup diced cooked ham ADVERTISEMENT', '3 1/4 cups water ADVERTISEMENT', '2 tablespoons chicken bouillon granules ADVERTISEMENT', '1/2 teaspoon salt, or to taste ADVERTISEMENT', '1 teaspoon ground white or black pepper, or to taste ADVERTISEMENT', '5 tablespoons butter ADVERTISEMENT', '5 tablespoons all-purpose flour ADVERTISEMENT', '2 cups milk ADVERTISEMENT', 'ADVERTISEMENT'])\n",
      "Row(ingredients=['1 pound skinless, boneless chicken breast halves - cubed ADVERTISEMENT', '1 cup sliced carrots ADVERTISEMENT', '1 cup frozen green peas ADVERTISEMENT', '1/2 cup sliced celery ADVERTISEMENT', '1/3 cup butter ADVERTISEMENT', '1/3 cup chopped onion ADVERTISEMENT', '1/3 cup all-purpose flour ADVERTISEMENT', '1/2 teaspoon salt ADVERTISEMENT', '1/4 teaspoon black pepper ADVERTISEMENT', '1/4 teaspoon celery seed ADVERTISEMENT', '1 3/4 cups chicken broth ADVERTISEMENT', '2/3 cup milk ADVERTISEMENT', '2 (9 inch) unbaked pie crusts ADVERTISEMENT', 'ADVERTISEMENT'])\n",
      "Row(ingredients=['3/4 cup milk ADVERTISEMENT', '2 tablespoons white vinegar ADVERTISEMENT', '1 cup all-purpose flour ADVERTISEMENT', '2 tablespoons white sugar ADVERTISEMENT', '1 teaspoon baking powder ADVERTISEMENT', '1/2 teaspoon baking soda ADVERTISEMENT', '1/2 teaspoon salt ADVERTISEMENT', '1 egg ADVERTISEMENT', '2 tablespoons butter, melted ADVERTISEMENT', 'cooking spray ADVERTISEMENT', 'ADVERTISEMENT'])\n",
      "Row(ingredients=['1 1/2 cups all-purpose flour ADVERTISEMENT', '3 1/2 teaspoons baking powder ADVERTISEMENT', '1 teaspoon salt ADVERTISEMENT', '1 tablespoon white sugar ADVERTISEMENT', '1 1/4 cups milk ADVERTISEMENT', '1 egg ADVERTISEMENT', '3 tablespoons butter, melted ADVERTISEMENT', 'ADVERTISEMENT'])\n",
      "Row(ingredients=['1 1/2 cups all-purpose flour ADVERTISEMENT', '1 teaspoon baking soda ADVERTISEMENT', '1 teaspoon baking powder ADVERTISEMENT', '1/2 teaspoon salt ADVERTISEMENT', '3 bananas, mashed ADVERTISEMENT', '3/4 cup white sugar ADVERTISEMENT', '1 egg, lightly beaten ADVERTISEMENT', '1/3 cup butter, melted ADVERTISEMENT', '1/3 cup packed brown sugar ADVERTISEMENT', '2 tablespoons all-purpose flour ADVERTISEMENT', '1/8 teaspoon ground cinnamon ADVERTISEMENT', '1 tablespoon butter ADVERTISEMENT', 'ADVERTISEMENT'])\n",
      "Row(ingredients=['2 (19.8 ounce) packages fudge brownie mix (such as Duncan Hines®) ADVERTISEMENT', '1 cup Irish cream liqueur (such as Baileys®) ADVERTISEMENT', '2/3 cup vegetable oil ADVERTISEMENT', '2 eggs ADVERTISEMENT', '1 cup unsalted butter, softened ADVERTISEMENT', '5 tablespoons Irish cream liqueur (such as Baileys®) ADVERTISEMENT', \"4 cups confectioners' sugar ADVERTISEMENT\", 'ADVERTISEMENT'])\n",
      "Row(ingredients=['1 recipe pastry for a 9 inch double crust pie ADVERTISEMENT', '1/2 cup unsalted butter ADVERTISEMENT', '3 tablespoons all-purpose flour ADVERTISEMENT', '1/4 cup water ADVERTISEMENT', '1/2 cup white sugar ADVERTISEMENT', '1/2 cup packed brown sugar ADVERTISEMENT', '8 Granny Smith apples - peeled, cored and sliced ADVERTISEMENT', 'ADVERTISEMENT'])\n",
      "Row(ingredients=['2 pounds potatoes, peeled and cubed ADVERTISEMENT', '1 head cabbage, chopped ADVERTISEMENT', '1 bunch green onions, chopped ADVERTISEMENT', '1/4 cup butter, softened ADVERTISEMENT', '1/2 cup half-and-half cream ADVERTISEMENT', 'salt and black pepper to taste ADVERTISEMENT', 'ADVERTISEMENT'])\n",
      "Row(ingredients=['2 tablespoons maple syrup ADVERTISEMENT', '1 tablespoon balsamic syrup ADVERTISEMENT', '1/4 teaspoon garlic powder ADVERTISEMENT', '2 pinches cayenne pepper ADVERTISEMENT', '1 pinch ground white pepper ADVERTISEMENT', '1 pinch ground nutmeg ADVERTISEMENT', '1 pinch ground dried chipotle pepper ADVERTISEMENT', '3 skinless, boneless chicken breast halves ADVERTISEMENT', '1 tablespoon olive oil ADVERTISEMENT', 'ADVERTISEMENT'])\n",
      "Row(ingredients=['6 frozen skinless, boneless chicken breast halves ADVERTISEMENT', '1 (12 ounce) bottle barbeque sauce ADVERTISEMENT', '1/2 cup Italian salad dressing ADVERTISEMENT', '1/4 cup brown sugar ADVERTISEMENT', '2 tablespoons Worcestershire sauce ADVERTISEMENT', 'ADVERTISEMENT'])\n",
      "Row(ingredients=['6 skinless, boneless chicken breast halves ADVERTISEMENT', '6 slices Swiss cheese ADVERTISEMENT', '6 slices ham ADVERTISEMENT', '3 tablespoons all-purpose flour ADVERTISEMENT', '1 teaspoon paprika ADVERTISEMENT', '6 tablespoons butter ADVERTISEMENT', '1/2 cup dry white wine ADVERTISEMENT', '1 teaspoon chicken bouillon granules ADVERTISEMENT', '1 tablespoon cornstarch ADVERTISEMENT', '1 cup heavy whipping cream ADVERTISEMENT', 'ADVERTISEMENT'])\n",
      "Row(ingredients=['15 graham crackers, crushed ADVERTISEMENT', '2 tablespoons butter, melted ADVERTISEMENT', '4 (8 ounce) packages cream cheese ADVERTISEMENT', '1 1/2 cups white sugar ADVERTISEMENT', '3/4 cup milk ADVERTISEMENT', '4 eggs ADVERTISEMENT', '1 cup sour cream ADVERTISEMENT', '1 tablespoon vanilla extract ADVERTISEMENT', '1/4 cup all-purpose flour ADVERTISEMENT', 'ADVERTISEMENT'])\n",
      "Row(ingredients=['1 tablespoon cornstarch ADVERTISEMENT', '1 tablespoon cold water ADVERTISEMENT', '1/2 cup white sugar ADVERTISEMENT', '1/2 cup soy sauce ADVERTISEMENT', '1/4 cup cider vinegar ADVERTISEMENT', '1 clove garlic, minced ADVERTISEMENT', '1/2 teaspoon ground ginger ADVERTISEMENT', '1/4 teaspoon ground black pepper ADVERTISEMENT', '12 skinless chicken thighs ADVERTISEMENT', 'ADVERTISEMENT'])\n",
      "Row(ingredients=['3 avocados - peeled, pitted, and mashed ADVERTISEMENT', '1 lime, juiced ADVERTISEMENT', '1 teaspoon salt ADVERTISEMENT', '1/2 cup diced onion ADVERTISEMENT', '3 tablespoons chopped fresh cilantro ADVERTISEMENT', '2 roma (plum) tomatoes, diced ADVERTISEMENT', '1 teaspoon minced garlic ADVERTISEMENT', '1 pinch ground cayenne pepper (optional) ADVERTISEMENT', 'ADVERTISEMENT'])\n",
      "Row(ingredients=['2 pounds ground beef chuck ADVERTISEMENT', '1 pound bulk Italian sausage ADVERTISEMENT', '3 (15 ounce) cans chili beans, drained ADVERTISEMENT', '1 (15 ounce) can chili beans in spicy sauce ADVERTISEMENT', '2 (28 ounce) cans diced tomatoes with juice ADVERTISEMENT', '1 (6 ounce) can tomato paste ADVERTISEMENT', '1 large yellow onion, chopped ADVERTISEMENT', '3 stalks celery, chopped ADVERTISEMENT', '1 green bell pepper, seeded and chopped ADVERTISEMENT', '1 red bell pepper, seeded and chopped ADVERTISEMENT', '2 green chile peppers, seeded and chopped ADVERTISEMENT', '1 tablespoon bacon bits ADVERTISEMENT', '4 cubes beef bouillon ADVERTISEMENT', '1/2 cup beer ADVERTISEMENT', '1/4 cup chili powder ADVERTISEMENT', '1 tablespoon Worcestershire sauce ADVERTISEMENT', '1 tablespoon minced garlic ADVERTISEMENT', '1 tablespoon dried oregano ADVERTISEMENT', '2 teaspoons ground cumin ADVERTISEMENT', '2 teaspoons hot pepper sauce (e.g. Tabasco™) ADVERTISEMENT', '1 teaspoon dried basil ADVERTISEMENT', '1 teaspoon salt ADVERTISEMENT', '1 teaspoon ground black pepper ADVERTISEMENT', '1 teaspoon cayenne pepper ADVERTISEMENT', '1 teaspoon paprika ADVERTISEMENT', '1 teaspoon white sugar ADVERTISEMENT', '1 (10.5 ounce) bag corn chips such as Fritos® ADVERTISEMENT', '1 (8 ounce) package shredded Cheddar cheese ADVERTISEMENT', 'ADVERTISEMENT'])\n",
      "Row(ingredients=['6 pork chops ADVERTISEMENT', '1 teaspoon garlic powder ADVERTISEMENT', '1 teaspoon seasoning salt ADVERTISEMENT', '2 egg, beaten ADVERTISEMENT', '1/4 cup all-purpose flour ADVERTISEMENT', '2 cups Italian-style seasoned bread crumbs ADVERTISEMENT', '4 tablespoons olive oil ADVERTISEMENT', '1 (10.75 ounce) can condensed cream of mushroom soup ADVERTISEMENT', '1/2 cup milk ADVERTISEMENT', '1/3 cup white wine ADVERTISEMENT', 'ADVERTISEMENT'])\n",
      "Row(ingredients=['2 3/4 cups all-purpose flour ADVERTISEMENT', '1 teaspoon baking soda ADVERTISEMENT', '1/2 teaspoon baking powder ADVERTISEMENT', '1 cup butter, softened ADVERTISEMENT', '1 1/2 cups white sugar ADVERTISEMENT', '1 egg ADVERTISEMENT', '1 teaspoon vanilla extract ADVERTISEMENT', 'ADVERTISEMENT'])\n",
      "Row(ingredients=['1 onion, chopped ADVERTISEMENT', '1 (16 ounce) can chili beans ADVERTISEMENT', '1 (15 ounce) can black beans ADVERTISEMENT', '1 (15 ounce) can whole kernel corn, drained ADVERTISEMENT', '1 (8 ounce) can tomato sauce ADVERTISEMENT', '1 (12 fluid ounce) can or bottle beer ADVERTISEMENT', '2 (10 ounce) cans diced tomatoes with green chilies, undrained ADVERTISEMENT', '1 (1.25 ounce) package taco seasoning ADVERTISEMENT', '3 whole skinless, boneless chicken breasts ADVERTISEMENT', '1 (8 ounce) package shredded Cheddar cheese (optional) ADVERTISEMENT', 'sour cream (optional) ADVERTISEMENT', 'crushed tortilla chips (optional) ADVERTISEMENT', 'ADVERTISEMENT'])\n",
      "Row(ingredients=['1/2 cup butter ADVERTISEMENT', '2/3 cup white sugar ADVERTISEMENT', '2 eggs ADVERTISEMENT', '1 cup buttermilk ADVERTISEMENT', '1/2 teaspoon baking soda ADVERTISEMENT', '1 cup cornmeal ADVERTISEMENT', '1 cup all-purpose flour ADVERTISEMENT', '1/2 teaspoon salt ADVERTISEMENT', 'ADVERTISEMENT'])\n",
      "Row(ingredients=['1 pound dry ziti pasta ADVERTISEMENT', '1 onion, chopped ADVERTISEMENT', '1 pound lean ground beef ADVERTISEMENT', '2 (26 ounce) jars spaghetti sauce ADVERTISEMENT', '6 ounces provolone cheese, sliced ADVERTISEMENT', '1 1/2 cups sour cream ADVERTISEMENT', '6 ounces mozzarella cheese, shredded ADVERTISEMENT', '2 tablespoons grated Parmesan cheese ADVERTISEMENT', 'ADVERTISEMENT'])\n",
      "Row(ingredients=['1/2 cup butter, melted ADVERTISEMENT', '1 cup white sugar ADVERTISEMENT', '2 eggs ADVERTISEMENT', '1 teaspoon vanilla extract ADVERTISEMENT', '1 1/2 cups all-purpose flour ADVERTISEMENT', '1 teaspoon baking soda ADVERTISEMENT', '1/2 teaspoon salt ADVERTISEMENT', '1/2 cup sour cream ADVERTISEMENT', '1/2 cup chopped walnuts ADVERTISEMENT', '2 medium bananas, sliced ADVERTISEMENT', 'ADVERTISEMENT'])\n",
      "Row(ingredients=['2 1/4 cups all-purpose flour ADVERTISEMENT', '2 teaspoons ground ginger ADVERTISEMENT', '1 teaspoon baking soda ADVERTISEMENT', '3/4 teaspoon ground cinnamon ADVERTISEMENT', '1/2 teaspoon ground cloves ADVERTISEMENT', '1/4 teaspoon salt ADVERTISEMENT', '3/4 cup margarine, softened ADVERTISEMENT', '1 cup white sugar ADVERTISEMENT', '1 egg ADVERTISEMENT', '1 tablespoon water ADVERTISEMENT', '1/4 cup molasses ADVERTISEMENT', '2 tablespoons white sugar ADVERTISEMENT', 'ADVERTISEMENT'])\n",
      "Row(ingredients=['1/2 cup butter, softened ADVERTISEMENT', '1/2 cup shortening ADVERTISEMENT', '1 1/2 cups white sugar ADVERTISEMENT', '2 eggs ADVERTISEMENT', '2 teaspoons vanilla extract ADVERTISEMENT', '2 3/4 cups all-purpose flour ADVERTISEMENT', '2 teaspoons cream of tartar ADVERTISEMENT', '1 teaspoon baking soda ADVERTISEMENT', '1/4 teaspoon salt ADVERTISEMENT', '2 tablespoons white sugar ADVERTISEMENT', '2 teaspoons ground cinnamon ADVERTISEMENT', 'ADVERTISEMENT'])\n",
      "Row(ingredients=['1 tablespoon chili powder ADVERTISEMENT', '1/4 teaspoon garlic powder ADVERTISEMENT', '1/4 teaspoon onion powder ADVERTISEMENT', '1/4 teaspoon crushed red pepper flakes ADVERTISEMENT', '1/4 teaspoon dried oregano ADVERTISEMENT', '1/2 teaspoon paprika ADVERTISEMENT', '1 1/2 teaspoons ground cumin ADVERTISEMENT', '1 teaspoon sea salt ADVERTISEMENT', '1 teaspoon black pepper ADVERTISEMENT', 'ADVERTISEMENT'])\n",
      "Row(ingredients=['1 pound lean ground beef ADVERTISEMENT', '1/4 cup chopped onion ADVERTISEMENT', '1/4 cup chopped green bell pepper ADVERTISEMENT', '1/2 teaspoon garlic powder ADVERTISEMENT', '1 teaspoon prepared yellow mustard ADVERTISEMENT', '3/4 cup ketchup ADVERTISEMENT', '3 teaspoons brown sugar ADVERTISEMENT', 'salt to taste ADVERTISEMENT', 'ground black pepper to taste ADVERTISEMENT', 'ADVERTISEMENT'])\n",
      "Row(ingredients=['1 cup warm milk (110 degrees F/45 degrees C) ADVERTISEMENT', '2 eggs, room temperature ADVERTISEMENT', '1/3 cup margarine, melted ADVERTISEMENT', '4 1/2 cups bread flour ADVERTISEMENT', '1 teaspoon salt ADVERTISEMENT', '1/2 cup white sugar ADVERTISEMENT', '2 1/2 teaspoons bread machine yeast ADVERTISEMENT', '1 cup brown sugar, packed ADVERTISEMENT', '2 1/2 tablespoons ground cinnamon ADVERTISEMENT', '1/3 cup butter, softened ADVERTISEMENT', '1 (3 ounce) package cream cheese, softened ADVERTISEMENT', '1/4 cup butter, softened ADVERTISEMENT', \"1 1/2 cups confectioners' sugar ADVERTISEMENT\", '1/2 teaspoon vanilla extract ADVERTISEMENT', '1/8 teaspoon salt ADVERTISEMENT', 'ADVERTISEMENT'])\n",
      "Row(ingredients=[\"1 (18.25 ounce) package devil's food cake mix ADVERTISEMENT\", '1 (5.9 ounce) package instant chocolate pudding mix ADVERTISEMENT', '1 cup sour cream ADVERTISEMENT', '1 cup vegetable oil ADVERTISEMENT', '4 eggs ADVERTISEMENT', '1/2 cup warm water ADVERTISEMENT', '2 cups semisweet chocolate chips ADVERTISEMENT', 'ADVERTISEMENT'])\n",
      "Row(ingredients=['4 eggs ADVERTISEMENT', '1 1/4 cups vegetable oil ADVERTISEMENT', '2 cups white sugar ADVERTISEMENT', '2 teaspoons vanilla extract ADVERTISEMENT', '2 cups all-purpose flour ADVERTISEMENT', '2 teaspoons baking soda ADVERTISEMENT', '2 teaspoons baking powder ADVERTISEMENT', '1/2 teaspoon salt ADVERTISEMENT', '2 teaspoons ground cinnamon ADVERTISEMENT', '3 cups grated carrots ADVERTISEMENT', '1 cup chopped pecans ADVERTISEMENT', '1/2 cup butter, softened ADVERTISEMENT', '8 ounces cream cheese, softened ADVERTISEMENT', \"4 cups confectioners' sugar ADVERTISEMENT\", '1 teaspoon vanilla extract ADVERTISEMENT', '1 cup chopped pecans ADVERTISEMENT', 'ADVERTISEMENT'])\n",
      "Row(ingredients=['10 cups all-purpose apples, peeled, cored and sliced ADVERTISEMENT', '1 cup white sugar ADVERTISEMENT', '1 tablespoon all-purpose flour ADVERTISEMENT', '1 teaspoon ground cinnamon ADVERTISEMENT', '1/2 cup water ADVERTISEMENT', '1 cup quick-cooking oats ADVERTISEMENT', '1 cup all-purpose flour ADVERTISEMENT', '1 cup packed brown sugar ADVERTISEMENT', '1/4 teaspoon baking powder ADVERTISEMENT', '1/4 teaspoon baking soda ADVERTISEMENT', '1/2 cup butter, melted ADVERTISEMENT', 'ADVERTISEMENT'])\n",
      "Row(ingredients=['2 cups warm water (110 degrees F/45 degrees C) ADVERTISEMENT', '2/3 cup white sugar ADVERTISEMENT', '1 1/2 tablespoons active dry yeast ADVERTISEMENT', '1 1/2 teaspoons salt ADVERTISEMENT', '1/4 cup vegetable oil ADVERTISEMENT', '6 cups bread flour ADVERTISEMENT', 'ADVERTISEMENT'])\n",
      "Row(ingredients=['4 russet potatoes, sliced into 1/4 inch slices ADVERTISEMENT', '1 onion, sliced into rings ADVERTISEMENT', 'salt and pepper to taste ADVERTISEMENT', '3 tablespoons butter ADVERTISEMENT', '3 tablespoons all-purpose flour ADVERTISEMENT', '1/2 teaspoon salt ADVERTISEMENT', '2 cups milk ADVERTISEMENT', '1 1/2 cups shredded C\n",
      "\n",
      "*** WARNING: max output size exceeded, skipping output. ***\n",
      "\n",
      "arnish', '1-ounce fresh squeezed lemon juice', '3 ounces pineapple juice', '1/2-ounce grenadine'])\n",
      "Row(ingredients=[])\n",
      "Row(ingredients=['1 large onion, chopped', '1 tablespoon extra-virgin olive oil', '1 pound lean ground lamb', '1 garlic clove, minced', '1 1/2 teaspoons salt', '1 teaspoon dried oregano, crumbled', '1/2 teaspoon ground cinnamon', '1/4 teaspoon sugar', '1/4 teaspoon freshly ground black pepper', '1 pound eggplant, peeled and cut into 1/2-inch cubes', '1 (28 to 32-ounce) can crushed tomatoes', '2 tablespoons unsalted butter', '2 tablespoons all-purpose flour', '2 cups milk', '1 garlic clove', '1 whole clove', '1/2 pound feta cheese, crumbled', '1/2 teaspoon salt', '1/4 teaspoon freshly ground black pepper', '2 large eggs', '10 ounces penne (3 cups)'])\n",
      "Row(ingredients=['1 tablespoon unsalted butter', '3 to 4 scallions, sliced thinly', '2 cups long-grain rice', '1 teaspoon salt', '1/2 teaspoon freshly ground black pepper', '1/4 cup chopped fresh parsley', '1/2 teaspoon lemon zest, optional'])\n",
      "Row(ingredients=['2 1/2 pounds boneless pork shoulder, cut into 3-inch pieces', 'Kosher salt', '1 onion, quartered', '4 sprigs fresh thyme or 2 teaspoons dried thyme', '2 teaspoons dried oregano (preferably Mexican)', '2 bay leaves', '12 black peppercorns', '24 dried corn husks', '2 teaspoons ground cumin', '1/3 cup plus 1/2 teaspoon chili powder', '1 clove garlic, minced', '2 teaspoons all-purpose flour', '2 teaspoons sugar', '1 tablespoon vegetable oil', '4 cups masa harina (instant corn flour)', '1 1/3 cups lard'])\n",
      "Row(ingredients=['2 teaspoons grated orange zest (2 oranges)', '1/2 cup freshly squeezed orange juice', '3 3/4 cups sugar', '1 vanilla bean, split lengthwise', '2 pounds fresh ripe purple figs, stems removed and halved lengthwise'])\n",
      "Row(ingredients=['10 ounces heavy cream', '1 ounce light corn syrup', '1 1/4 ounces jasmine tea', '9 ounces bittersweet chocolate, chopped', '4 1/2 ounces milk chocolate chopped', '1/4 ounce rum'])\n",
      "Row(ingredients=['1/2 large shallot, minced', '1/2 cup mayonnaise', '1/4 cup red wine vinegar', '25 grinds freshly ground black pepper', '1 to 2 tablespoons olive oil', 'Salt', '1 head red leaf lettuce, washed, dried, and cut into large chiffonade'])\n",
      "Row(ingredients=['4 croissants, halved horizontally', \"3 cups Leftover Billie's Houdini Chicken Salad, recipe follows\", '2 cups arugula', '2 avocados, sliced', '2 tomatoes, sliced', '4 slices Cheddar', 'Salt and freshly ground black pepper', '4 boneless, skinless chicken breasts', '1 1/2 cups low-fat plain Greek yogurt', '1/2 cup seedless red grapes, preferably Concord, halved', '1/2 cup slivered almonds', '1/2 cup finely chopped pecans', '1/4 cup dried cranberries', '2 small Granny Smith apples, finely diced', '1/2 small red onion, finely chopped', 'Salt and freshly ground pepper', 'Toasted bread or crackers, for serving'])\n",
      "Row(ingredients=[])\n",
      "Row(ingredients=['1 stick butter', '1 teaspoon Italian seasoning', '1/2 teaspoon seasoned salt', '1 sleeve saltine crackers (one-quarter of a 1-pound box)'])\n",
      "Row(ingredients=[])\n",
      "Row(ingredients=['One 16.5-ounce vanilla-flavored boxed cake mix', '1/2 cup sweetened condensed milk', '1/4 cup key lime juice', '2 cups cold heavy cream', \"3 tablespoons confectioners' sugar\", 'Cayenne pepper, for garnish', 'Zest from 2 to 3 limes, for garnish'])\n",
      "Row(ingredients=['12 foil cupcake liners', 'Nonstick cooking spray', '2 pkg. (8 oz. each) cream cheese, at room temperature', '1/2 cup granulated sugar', '1 1/2 tablespoons all-purpose flour', '1 teaspoon vanilla extract', 'Pinch of salt', '2 large eggs', \"1/2 cup LIBBY'S® 100% Pure Pumpkin\", '2 tablespoons Gingerbread Latte or Pumpkin Spice Flavor NESTLÉ COFFEE-MATE Liquid Coffee Creamer', '2 teaspoons ground cinnamon'])\n",
      "Row(ingredients=[])\n",
      "Row(ingredients=['Sea salt and cracked black pepper', '20-ounce rib-eye steak'])\n",
      "Row(ingredients=['4 large McIntosh or Empire apples, cored', '1 tablespoon lemon juice', '3/4 cup brown sugar', '1/4 cup instant oatmeal mix or rolled oats', '1/4 teaspoon nutmeg, a healthy grating', '1 teaspoon ground cinnamon', '4 tablespoons butter, cut into pieces', '2 ounces, 1/8 cup, golden raisins, chopped', '1/4 cup chopped walnuts or walnut pieces or pecans', '1 pint Dulce de Leche (caramel) ice cream or caramel swirl ice cream', 'Whipped cream, in a canister'])\n",
      "Row(ingredients=['1 small red cabbage', '2 tablespoons canola oil', 'Sea salt and freshly ground pepper', '1/4 teaspoon ground mace', '2 tablespoons balsamic vinegar', '1 1/2 ounces brown sugar', '3 tablespoons red wine', '2 bay leaves', '1/3 cup dried cranberries'])\n",
      "Row(ingredients=['1.5 oz. Crown Royal', '2 oz. heated cider', '.25 oz. honey', '.25 oz. lemon juice', '1 sprinkle cinnamon', '1 piece cinnamon stick'])\n",
      "Row(ingredients=['2 tablespoons vegetable oil, 2 turns of the pan', '1 medium size yellow onion, peeled, quartered and thinly sliced', '3 garlic cloves, peeled and finely chopped', '2 poblano or anaheim peppers, seeded and thinly sliced', 'Salt and freshly ground black pepper', '1 cup shredded carrots, available in pouches in the produce department', '6 cups, 1 1/2 quarts, chicken broth', '1 1/2 pound chicken tenders cut into bite size chunks, 2 packages', '2 small bundles from a 3.75 ounce package of bean thread noodles, there is usually 3 bundles in one package (recommended: Kame)', '3 tablespoons cilantro leaves, chopped', '15 fresh basil leaves, roughly chopped', '1 lime'])\n",
      "Row(ingredients=['1 quart chicken stock', '2 pinches saffron', '2 tablespoons extra-virgin olive oil', '3/4 pound chorizo, casings remove and chopped or crumbled', '1 pound boneless, skinless chicken thighs or breast tenders, diced', '3/4 pound medium to large white mushrooms, quartered', '1 medium onion, chopped', '2 to 3 large cloves garlic, chopped', '1 bay leaf, fresh or dried', 'Salt and freshly ground black pepper', '2 tablespoons chopped fresh thyme leaves', '2 rounded tablespoons all-purpose flour', '1/3 to 1/2 cup dry sherry', '1 small box biscuit mix or mix to prepare 8 drop biscuits, prepared to package directions, (recommended: Jiffy)', '1/4 cup finely chopped flat-leaf parsley', '1 teaspoon paprika'])\n",
      "Row(ingredients=['1 cup whole milk', 'Finely grated zest of 1 large lemon', '1/2 cup sugar', '3 tablespoons all-purpose flour', '4 egg yolks', '1 tablespoon unsalted butter, at room temperature', '3 tablespoons fresh lemon juice', '1/4 teaspoon pure vanilla extract', '1 cup sugar', '4 large egg whites, at room temperature', '1/4 cup (4 tablespoons) fresh lemon juice (from 1 large lemon)', '1/2 cup all-purpose flour', '1/3 cup packed light brown sugar', '6 tablespoons unsalted butter, cut into 1/2-inch pieces, chilled', '12 amaretti or 1 1/2-inch diameter vanilla cookies', '1/2 cup sliced almonds'])\n",
      "Row(ingredients=[])\n",
      "Row(ingredients=['6 pears', '3 tablespoons lemon juice', '3 tablespoons unsalted butter', '1 tablespoon minced fresh sage leaves', '1/2 cup packed light brown sugar', 'Gray salt', 'Blue Cheese Bruschetta, recipe follows', '1 loaf walnut bread or raisin bread', '4 tablespoons unsalted butter, softened', '1/2 cup crumbled blue cheese, crumbled'])\n",
      "Row(ingredients=['Canola oil, for frying', '6 eggs', 'Worcestershire sauce, optional', 'Hot sauce, optional'])\n",
      "Row(ingredients=['1 cup ancho chili powder', '1/3 cup Spanish paprika', '3 tablespoons ground dried oregano', '3 tablespoons ground coriander', '3 tablespoons dry mustard', '1 tablespoon ground cumin', '1 tablespoon kosher salt', '1 tablespoon freshly ground black pepper', '2 teaspoons chile de arbol', '1 (6-pound) pork shoulder', 'Salt and freshly ground black pepper', 'Chicken stock, if needed', '1/4 cup rice wine vinegar', '2 tablespoons Dijon mustard', '2 teaspoons honey', '1/2 teaspoon whole black peppercorns', 'Salt', '1/2 cup plus 2 tablespoons canola/olive oil blend', 'Water, if needed', '1 cup coarsely chopped green onions', '1/4 cup red wine vinegar', '2 serrano chiles', '2 tablespoons mayonnaise', 'Salt and freshly ground black pepper', '1/2 cup pure olive oil', '1 head purple cabbage, finely shredded', '1 small red onion, halved and thinly sliced', '1/4 cup freshly chopped cilantro leaves', 'Hamburger buns, for serving'])\n",
      "Row(ingredients=['1/4 cup almond flour', '1/4 cup quick-cooking oats', '2 tablespoons maple sugar', '1 tablespoon all-purpose flour', '1/4 teaspoon salt', '1/8 teaspoon ground cinnamon', '2 tablespoons cold unsalted butter, cut into small cubes', '2 large apples, peeled, cored and cut into small cubes', '1 cup pomegranate seeds', '2 tablespoons lemon juice (from about 1 lemon)', '1 tablespoon maple sugar', '1/2 teaspoon ground cinnamon'])\n",
      "Row(ingredients=['1 tablespoon vegetable oil', '1 garlic clove, minced', '1 jalapeno, minced', '1/4 cup diced onions', '1 packet Sazon seasoning (about 1 1/4 teaspoons)', '2 (15.5-ounce) cans pinto beans', '1 lime, juiced', 'Salt and freshly ground black pepper'])\n",
      "Row(ingredients=['3 cups stale French bread, cut in 3/4-inch cubes', '2 cups milk', '2 eggs', '1 cup sugar', '1 tablespoon vanilla extract', '1/2 teaspoon cinnamon', '1/4 teaspoon nutmeg', '4 tablespoons butter, melted and slightly cooled', '1/2 cup sultana raisins', '2 egg yolks', '1 stick butter, not margarine', '1 cup sugar', '1/3 cup bourbon whiskey, to taste'])\n",
      "Row(ingredients=['1 1/2 pound flank steak', '2 cloves garlic, finely chopped', 'Ground black pepper', '1 cup balsamic vinegar', '2 tablespoons butter'])\n",
      "Row(ingredients=['3 tablespoons unsalted butter, melted', '2 pounds fresh cream cheese, at room temperature', '1 teaspoon pure vanilla extract', '1/4 teaspoon pure almond extract', '1 teaspoon nutmeg', '1 3/4 cups sugar', '1/8 teaspoon salt', '4 eggs', '1/3 cup graham cracker crumbs (pulse whole graham crackers in a food processor)'])\n",
      "Row(ingredients=['4 bone-in chicken breasts with skin (6 ounces each)', 'Salt and freshly ground pepper', '2 teaspoons olive oil', '1 medium carrot, chopped', '1/2 cup chopped onions', '2 cups brown veal stock', '2 cups sliced button mushrooms', '2 shallots, minced', '2 tablespoons cognac', '1/2 cup dry white wine', '2 tablespoons chopped fresh tarragon'])\n",
      "Row(ingredients=['1/2 cup citron vodka', '4 tablespoons pink lemonade mix, (Recommended: Country Time)', '1 1/2 cups pineapple juice', '1 (12-ounce) can lemon-lime flavored carbonated beverage', 'Garnish: pink sanding sugar'])\n",
      "Row(ingredients=['3 strips bacon, cooked', '3 pieces rye bread, lightly toasted', '4 pieces turkey', 'Lettuce,', 'Tomato', '1 cup mayonnaise', '1 tablespoon chipotle, canned', '1 ripe avocado', 'Juice of 1 lime', '2 cups white vinegar', '1 cup mayonnaise', '1/2 cup sour cream', '4 teaspoon celery seed', '1 cup sugar', '1 head cabbage, shredded'])\n",
      "Row(ingredients=['3/4 cup quinoa, rinsed well', 'Kosher salt', '3 oranges', '4 tangerines', '2 tablespoons sugar', '1 tablespoon apple cider vinegar', '1 teaspoon coriander seeds, crushed', '2 tablespoons cold unsalted butter, cut into pieces', '1 1/4 pounds sea scallops, tough foot muscles removed', 'Freshly ground pepper', '1 teaspoon extra-virgin olive oil', '1 tablespoon chopped fresh parsley or chives'])\n",
      "Row(ingredients=['3 tablespoons butter', '1/4 cup brown sugar', '1 tablespoon honey', '1 (15-ounce) can Bing cherries in syrup', '1/4 cup freshly-squeezed orange juice', '3 tablespoons Kirsch liqueur', '2 tablespoons Triple Sec', '1/4 teaspoon ground cinnamon', '1 tablespoon cornstarch', '1/4 cup water', '1 pint vanilla ice cream'])\n",
      "Row(ingredients=['2 pounds chicken wings', '2 tablespoons fresh lemon juice', '1 cup all-purpose flour', '2 teaspoons salt', '2 teaspoons paprika', '1 1/2 teaspoons ground cumin', '1 1/2 teaspoons pepper', '3/4 teaspoon dried thyme', '1 cup beer (not dark)', '1 tablespoon vegetable oil', 'Vegetable oil for deep-frying', 'Parsley sprigs for garnish', 'Apricot Mustard Sauce (see below)', 'Blue Cheese Dressing (see below)', '1/2 cup apricot preserves', '2 tablespoons Dijon-style mustard', '2 tablespoons white wine vinegar', '1/4 cup olive oil', '1 tablespoon heavy cream', '2 tablespoons crumbled blue cheese', 'A few drops of fresh lemon juice'])\n",
      "Row(ingredients=['One 8-ounce bag ruffled potato chips', \"1/4 cup hot sauce (use a milder one such as Frank's)\", 'One 4-ounce container crumbled blue cheese.'])\n",
      "Row(ingredients=['2 shots espresso, or 1/2 cup very strong coffee', '1 cup ice cubes', '1/2 cup sweetened condensed milk', '1/2 cup whipped topping, plus more for topping', '2 tablespoons chocolate syrup, plus more for topping', '3 tablespoons chocolate chips'])\n",
      "Row(ingredients=['1/2 cup roasted red peppers', '1/2 cup extra-virgin olive oil', '1/2 cup red wine vinegar', '2 tablespoons chopped garlic', '1 teaspoon chopped basil leaves', '1 teaspoon chopped oregano leaves', 'Salt and pepper', '20 mussels (recommended: Penn Cove)', '20 Manila clams', '8 large prawns', '8 sea scallops', '4 ounces halibut, cubed', '4 ounces salmon, cubed', 'Olive oil, for sauteing', 'Romaine lettuce', 'Field greens', 'Assorted vegetables of your choice'])\n",
      "Row(ingredients=['1 1/4 cups all-purpose flour', '1/2 cup plus 3 tablespoons sugar', 'Kosher salt', '6 tablespoons (3/4 stick) cold unsalted butter, diced', '2 tablespoons cold vegetable shortening (recommended: Crisco)', '1/4 cup ice water', '4 extra-large egg whites, at room temperature', '1/4 teaspoon cream of tartar', 'Lemon Filling, recipe follows', '1/4 pound (1 stick) unsalted butter, at room temperature', '1 1/2 cups sugar', '4 extra-large eggs', '3 extra-large egg yolks (save the whites for the meringue)', '1/4 cup finely grated lemon zest (6 to 8 lemons)', '1/2 cup freshly squeezed lemon juice', '1/8 teaspoon kosher salt'])\n",
      "Row(ingredients=['5 ounces unsalted butter', '5 egg yolks', '1 1/2 teaspoons lemon juice', '1/2 teaspoon salt', '1 medium chipotle pepper'])\n",
      "Row(ingredients=['1 whole chicken, 3 pounds', '1 gallon cool water', '2 carrots, cut in 2-inch pieces', '2 celery stalks, cut in 2-inch pieces', '1 onion, halved', '1 head garlic, halved horizontally', '2 turnips, halved', '4 fresh thyme sprigs', '2 fresh rosemary sprigs', '1 bay leaf', '1/4 pound (1 stick) unsalted butter', '1/2 cup all-purpose flour', 'Sea salt and freshly ground black pepper', '3 carrots, cut in 1/2-inch circles', '1 bag frozen or fresh pearl onions, see note', '1 box frozen or fresh peas, see note', 'Leaves from 4 fresh parsley sprigs', '2 frozen puff pastry sheets, thawed', '1 egg mixed with 3 tablespoons water', '1/4 cup shredded Parmigiano-Reggiano'])\n",
      "Row(ingredients=['1 stick (1/4 cup) unsalted butter, melted, plus 2 tablespoons', '1 cup stone ground yellow cornmeal', '1/2 cup all-purpose flour', '1 tablespoon baking powder', '1 teaspoon kosher salt', '1/2 teaspoon baking soda', '1 cup milk', '1/2 cup buttermilk', '1 egg', '8 ounces pepper Jack cheese, shredded', '1 cup frozen corn kernels, thawed', '1/2 cup diced and seeded roasted poblano peppers'])\n",
      "Row(ingredients=['1/2 cup olive oil', '1/4 cup white wine vinegar', '1/2 cup dry white wine', '4 cloves garlic, thinly sliced', '3/4 cup water', '8 artichokes', '2 tablespoons fresh parsley', 'Salt and pepper'])\n",
      "Row(ingredients=['1 cup white wine', '60 littleneck clams', '8 thin slices bacon', '2 cups toasted bread crumbs', '1 stick butter, melted', '3 cloves garlic, minced', '1/4 cup chopped parsley leaves', '1/4 cup finely grated Parmesan', '1 tablespoon salt', '2 jalapenos, minced', '1 red pepper, minced'])\n",
      "Row(ingredients=['1/2 cup fresh mint leaves, chopped', '1/4 cup fresh cilantro or parsley leaves', '1/4 cup white wine vinegar', '1 to 2 teaspoons honey', 'Kosher salt and freshly ground black pepper', '6 large ears corn, husks and silks removed', '1/4 cup light olive or canola oil', 'Canola oil, for brushing', '2 cups baby mixed greens', '6 scallions, green and pale green parts thinly sliced', \"1/2 cup crumbled feta or farmer's cheese\"])\n",
      "Row(ingredients=['4 baking potatoes', '1 1/2 tablespoons canola oil', '2 cups grated Cheddar', '2 cups sour cream', '1 cup bacon bits', '1 stick butter, cut into cubes', '1/2 cup chopped chives'])\n",
      "Row(ingredients=['4 tomatillos, husked, washed, and cut into 1/4inch dice', '2 green onions, white and some green part, thinly sliced on the diagonal', '1 small bunch cilantro, leaves only, coarsely chopped', '1 teaspoon minced seeded jalapeno chile', '1/2 teaspoon salt', '1/2 teaspoon freshly ground black pepper', '2 tablespoons freshly squeezed lime juice', '2 tablespoons olive oil', '16 beef marrow (leg) bones (about 4 pounds), approximately 2 inches long', '6 large Corn Tortillas (recipe attached)', 'Vegetable oil for frying', '1 ripe avocado, peeled and diced, for serving', '1 teaspoon flaked sea salt'])\n",
      "Row(ingredients=['1,000 grams heavy cream', '160 grams invert sugar or corn syrup', '310 grams glucose', '260 grams sugar', '1 vanilla bean, split and seeds scraped', '1,200 grams Gianduja chocolate', '120 grams butter', 'Serving suggestions: graham cracker crumbles, chocolate sandwich cookie crumbles or other cookie crumbles'])\n",
      "Row(ingredients=['2 to 3 sheets puff pastry dough', '40 whole fresh figs', '2 large eggs', '2 tablespoons sugar', '1 cup goat cheese', '1 cup fresh strawberries', '1 vanilla bean', '1 tablespoon balsamic vinegar', '1 pinch ground clove', '1 cup micro greens'])\n",
      "Row(ingredients=['7 1/2 pounds red bliss potatoes, cut into 1/2-inch dice', 'Water, to cover', '1 heaping tablespoon white pepper', '1 heaping tablespoon salt', '1 1/2 pound ground salt pork', '1 1/2 Spanish onion, diced', '1 quart chopped quahogs', '1 quart quahog juice', '1 heaping tablespoon fresh thyme'])\n",
      "Row(ingredients=['1 dried ancho chile', '1 cup brewed coffee, hot', '1/2 cup fresh blueberries', '1/2 cup dried cranberries', '4 cloves garlic', '1 chipotle chile', '1/2 red onion, diced and sauteed', '4 cups ketchup', '1 cup brown sugar', '1/2 cup brewed coffee', '1/2 cup red wine', '2 tablespoons Dijon mustard', '1 tablespoon freshly ground black pepper', '1/4 teaspoon ground cinnamon'])\n",
      "Row(ingredients=[])\n",
      "Row(ingredients=['6 limes', '1/2 cup water', '1/4 cup sugar', '4 cups watermelon pieces, seeds removed', '1/8 teaspoon pure vanilla extract', '40 currants', '2 empty ice-cube trays'])\n",
      "Row(ingredients=['1 -ounce white wine', '3 ounces sherry vinegar', '2 ounces olive oil', 'Salt and pepper', '1/2 cup buttermilk', '1 egg', 'Vegetable oil, as needed', '2 ounces leeks, cleaned and cut into strips', 'Flour, as needed', '2 cloves garlic, roasted and minced', '1 teaspoon minced shallots', '1 pinch cracked black pepper', '1/2 cup sherry vinegar', '2 tablespoons olive oil', '2 bunches watercress, stemmed', '2 skinless and boneless duck breasts', '3 ounces fresh scallops', '1 ounce pecans, roasted and roughly chopped', '2 ounces cheddar cheese, cut into wedges'])\n",
      "Row(ingredients=['1/2 cup vegetable oil, plus more for the pan', '1 1/4 cups all-purpose flour, plus more for the pan', '3/4 cup plus 2 tablespoons granulated sugar', '1/2 cup plain malted milk powder (such as Carnation)', '1/4 cup unsweetened cocoa powder, plus more for topping', '1/2 teaspoon baking soda', '1/2 teaspoon ground cinnamon', '1/4 teaspoon ground allspice', '1/4 teaspoon freshly grated nutmeg', '4 large eggs, separated', '1/2 cup milk', \"2 tablespoons confectioners' sugar\", 'For the frosting:', '1 1/2 cups granulated sugar', '1 large egg plus 5 egg yolks', '2 1/2 sticks unsalted butter, cut into small pieces, at room temperature', '2 tablespoons plain malted milk powder', '1 teaspoon pure vanilla extract', 'Pinch of freshly grated nutmeg'])\n",
      "Row(ingredients=['4 tablespoons buckwheat honey, divided', '1/4 cup fresh orange juice', '12 fresh figs, halved', '12-inch wooden skewers, soaked in water for 30 minutes', '1 pint mascarpone', '1/4 cup chopped pistachios'])\n",
      "Row(ingredients=['1 pound peeled, deveined shrimp', '1/3 ounce Activa-TG (a kind of meat glue)', '1/2 ounce salt', 'Ground cayenne pepper', 'Smoked Yogurt Paprika, recipe follows', 'Prawn Crackers, recipe follows', '1 cup yogurt smoked for 3 minutes*', '3/4 teaspoon sweet paprika', 'Salt', 'Vegetable oil for deep frying', '5 pieces prawn crackers, crushed', 'Tomato powder', 'Salt'])\n",
      "Row(ingredients=['Quick Kimchi', '2 pounds napa cabbage, halved and thinly shredded', '4 tablespoons kosher salt', '6 cloves garlic, chopped', '1 or 2 serrano chiles, chopped, depending on how spicy you like it', '1-inch piece fresh ginger, peeled and chopped', '1 1/2 tablespoons Asian fish sauce', '3 tablespoons rice vinegar', '2 tablespoons water', '6 green onions, green and pale green part, thinly sliced', '2 tablespoons toasted sesame seeds', '1 (12-ounce) can cola soda (recommended: Coke)', '1/4 cup soy sauce', '2 tablespoons rice vinegar', '2 tablespoons sesame oil', '8 cloves garlic, chopped', '1/4 cup coarsely chopped fresh cilantro', '1/2 teaspoon coarsely ground black pepper', '1 1/2 pound pork shoulder steak, no more than 3/4-inch thick, not trimmed', 'Boston lettuce leaves', 'Kojuchang Sauce', '2 tablespoons kochujang', '2 cloves garlic, finely chopped', '1 tablespoon rice vinegar', '1 tablespoon soy sauce', '1 teaspoon sesame oil', '2 teaspoons toasted sesame seeds', '2 teaspoons honey', '2 green onions, halved lengthwise and thinly sliced crosswise'])\n",
      "Row(ingredients=['1-ounce fresh yeast or 2 envelopes active dry yeast', '2 cups whole milk, lukewarm', '1 tablespoon sugar, plus 1 teaspoon', '5 cups all-purpose flour, plus more for the work surface', '1 cup extra-virgin olive oil, plus 1/3 cup, plus more for drizzling', '1 tablespoon finely chopped fresh rosemary leaves', '1 cup red grapes, halved or quartered', '1 cup golden raisins', '1 1/2 teaspoon kosher salt', '1 tablespoon lemon zest, grated', 'Gray salt', '1 egg, beaten well'])\n",
      "Row(ingredients=['Ice', '1 slice jalapeno, seeded 1 by 1/4-inch piece', '1-ounce fresh lime juice', '1/2-ounce fresh lemon juice', '1 1/2 ounces tequila blanco (100 percent blue agave)', '3/4-ounce agave nectar', '1/2 celery stick, for garnish'])\n",
      "Row(ingredients=['1/4 cup butter', '1/3 cup sugar', '1 teaspoon ground cinnamon', '1 large apple cored, with skin and cut in thin slices', '1 large pear, not very ripe, cored with skin and cut in thin slices', '1/4 cup tequila', '4 flour tortillas', '1 cup vegetable oil', 'Vanilla ice cream'])\n",
      "Row(ingredients=['2 cups coconut milk', '1 short stalk lemon grass, finely chopped', '8 kaffir lime leaves, crushed', '2 tablespoons lemon juice', '1 pound block halibut', '2 tablespoons olive oil', '1 head Chinese cabbage, cut in 1/2 and chopped on a bias', 'Salt and freshly ground black pepper', '1 tablespoon seasoned rice wine vinegar', '1 tablespoon mirin', '1 tablespoon black sesame seeds'])\n",
      "Row(ingredients=['2 large heads garlic', '1 cut-up chicken, about 3 pounds', 'Salt and freshly ground pepper', '2 tablespoons olive oil', '1 small onion, chopped', '1/3 cup dry white wine', '1 teaspoon dried thyme', '2/3 cup chicken broth', '1 teaspoon cornstarch (optional)'])\n",
      "Row(ingredients=['1 sheet frozen puff pastry, thawed', '1 egg', '1 teaspoon water', 'Powdered sugar in a shaker', '1 cup cream, whipped', '1 tablespoon sugar', 'Fresh fruit such as clementine sections, kiwi, strawberries, blueberries', '24 karat gold leaf (optional)'])\n",
      "Row(ingredients=['4 ears fresh corn', '2 heads Belgian endive', '2 tablespoons olive oil', 'Salt and freshly ground black pepper', '1 (3-ounce) bunch cilantro, leaves only', '1/2 small red onion, thinly sliced', '1/4 cup crumbled feta', '1/2 lime, juiced', '1/2 teaspoon ground cumin', '1/4 teaspoon cayenne pepper, or to taste'])\n",
      "Row(ingredients=['4 large plum tomatoes', 'Salt and sugar', '1 1/2 pounds zucchini', '1 teaspoon salt', '3 shallots, sliced', '2 tablespoons olive oil', '3 tablespoons fresh parsley', '1 1/2 teaspoons fresh thyme', '1/2 pound grated Gruyere'])\n",
      "Row(ingredients=['3 tablespoons olive oil', '2 tablespoons unsalted butter', '2 medium cloves garlic, crushed', '1 medium shallot, very finely chopped', '1 medium red bell pepper, seeded, deveined, and cut into very thin slices', '1 medium yellow bell pepper, seeded, deveined, and cut into very thin slices', '1 medium orange bell pepper, seeded, deveined, and cut into very thin slices', 'Pinch crushed red-pepper flakes', 'Coarse salt and freshly ground pepper', '10 fresh basil leaves, well washed and dried, coarsely torn', 'Pepper Pasta, recipe follows', 'Freshly grated Parmesan, for serving', '1 large red, yellow, or orange bell pepper', '1/2 teaspoon extra-virgin olive oil', '3 1/2 cups all-purpose flour, plus more for dusting', '3 large eggs', 'Coarse salt'])\n",
      "Row(ingredients=['8 ounces butter', '8 ounces bittersweet chocolate', '4 whole eggs', '4 egg yolks', '3 ounces sugar', '2 1/4 tablespoons flour', 'Butter, for pan', 'Flour, for pan'])\n",
      "Row(ingredients=[\"3 (10.5-ounce) cans restaurant-style condensed crab bisque (recommended: Bookbinder's)\", '2 1/4 cups plus 6 tablespoons heavy cream', '3 tablespoons fresh lemon juice', '3 tablespoons chopped fresh parsley leaves', '3 (4.25 ounce) cans crabmeat, picked over', 'Salt', 'Cayenne pepper'])\n"
     ]
    }
   ],
   "source": [
    "for i in df.select('ingredients').collect():\n",
    "    print(i)"
   ]
  },
  {
   "cell_type": "markdown",
   "metadata": {
    "application/vnd.databricks.v1+cell": {
     "cellMetadata": {
      "byteLimit": 2048000,
      "rowLimit": 10000
     },
     "inputWidgets": {},
     "nuid": "1591f04c-436e-4576-a081-7cc8ebfe0610",
     "showTitle": false,
     "title": ""
    }
   },
   "source": [
    "#### Preprocessing and Parsing of Ingredients"
   ]
  },
  {
   "cell_type": "code",
   "execution_count": 0,
   "metadata": {
    "application/vnd.databricks.v1+cell": {
     "cellMetadata": {
      "byteLimit": 2048000,
      "rowLimit": 10000
     },
     "inputWidgets": {},
     "nuid": "167a689c-1a78-419e-98ef-66a787035d32",
     "showTitle": false,
     "title": ""
    }
   },
   "outputs": [],
   "source": [
    "from pyspark.sql.functions import col, regexp_replace\n",
    "from pyspark.sql.functions import trim\n",
    "from pyspark.sql.functions import lower\n",
    "\n",
    "#turn a list of string to string\n",
    "df = df.withColumn(\"ingredients\", concat_ws(\", \", \"ingredients\"))\n",
    "\n",
    "# remove non-alphabetical characters from the \"ingredient\" column\n",
    "df = df.withColumn(\n",
    "    \"ingredients\",\n",
    "    regexp_replace(col(\"ingredients\"), \"[^a-zA-Z, ]\", \"\")\n",
    ")\n",
    "# remove extra space\n",
    "df = df.withColumn(\n",
    "    \"ingredients\",\n",
    "    regexp_replace(col(\"ingredients\"), r',\\s+', ',')\n",
    ")\n",
    "\n",
    "df = df.withColumn(\"ingredients\", trim(df[\"ingredients\"]))\n",
    "\n",
    "# convert all words to lower case\n",
    "df = df.withColumn('ingredients', lower('ingredients'))"
   ]
  },
  {
   "cell_type": "code",
   "execution_count": 0,
   "metadata": {
    "application/vnd.databricks.v1+cell": {
     "cellMetadata": {
      "byteLimit": 2048000,
      "rowLimit": 10000
     },
     "inputWidgets": {},
     "nuid": "4795c85e-e069-4105-9331-ef4f4afef1f9",
     "showTitle": false,
     "title": ""
    }
   },
   "outputs": [],
   "source": [
    "# read in stop words\n",
    "sw = sc.textFile(\"dbfs:/FileStore/shared_uploads/hui.yun@sjsu.edu/stopwords.text\")\n",
    "sw = sw.map(lambda x: x.split(',')).flatMap(lambda x: x).map(lambda x: x.strip()).collect()\n",
    "sw = [word for word in sw if word != '']"
   ]
  },
  {
   "cell_type": "code",
   "execution_count": 0,
   "metadata": {
    "application/vnd.databricks.v1+cell": {
     "cellMetadata": {
      "byteLimit": 2048000,
      "rowLimit": 10000
     },
     "inputWidgets": {},
     "nuid": "010dde3c-9978-446e-8368-0f4edeaf2ee4",
     "showTitle": false,
     "title": ""
    }
   },
   "outputs": [],
   "source": [
    "from pyspark.sql.functions import regexp_replace\n",
    "from pyspark.sql.functions import lower\n",
    "\n",
    "# remove stopwords\n",
    "for word in sw:\n",
    "    df = df.withColumn('ingredients', regexp_replace('ingredients', r'\\b{}\\b'.format(word), ''))"
   ]
  },
  {
   "cell_type": "code",
   "execution_count": 0,
   "metadata": {
    "application/vnd.databricks.v1+cell": {
     "cellMetadata": {
      "byteLimit": 2048000,
      "rowLimit": 10000
     },
     "inputWidgets": {},
     "nuid": "ac2cabe4-3cbc-4b74-8102-d3b7576a260d",
     "showTitle": false,
     "title": ""
    }
   },
   "outputs": [],
   "source": [
    "from pyspark.sql.functions import split, trim, array_remove, transform, col\n",
    "\n",
    "# Split the string by delimiter ',' and return an array of trimmed strings\n",
    "words = split(\"ingredients\", \",\")\n",
    "# Trim the resulting array of strings\n",
    "trimmed_words = transform(words, lambda w: trim(w))\n",
    "# Remove empty strings from the resulting array\n",
    "words_without_empty = array_remove(trimmed_words, '')\n",
    "\n",
    "df = df.select(\"title\",\"instructions\", words_without_empty.alias(\"ingredients\"))\n"
   ]
  },
  {
   "cell_type": "code",
   "execution_count": 0,
   "metadata": {
    "application/vnd.databricks.v1+cell": {
     "cellMetadata": {
      "byteLimit": 2048000,
      "rowLimit": 10000
     },
     "inputWidgets": {},
     "nuid": "cd66c64d-52c1-406f-ae4d-4e3df80a8f53",
     "showTitle": false,
     "title": ""
    }
   },
   "outputs": [],
   "source": [
    "from pyspark.sql.functions import col, trim, transform\n",
    "df = df.withColumn(\"ingredients\", transform(col(\"ingredients\"), lambda x: regexp_replace(trim(x), r\"\\s+\", \" \")))"
   ]
  },
  {
   "cell_type": "markdown",
   "metadata": {
    "application/vnd.databricks.v1+cell": {
     "cellMetadata": {
      "byteLimit": 2048000,
      "rowLimit": 10000
     },
     "inputWidgets": {},
     "nuid": "21a03d08-3797-44d9-a93e-d8470712c0a9",
     "showTitle": false,
     "title": ""
    }
   },
   "source": [
    "Ingredients Format After Cleaning"
   ]
  },
  {
   "cell_type": "code",
   "execution_count": 0,
   "metadata": {
    "application/vnd.databricks.v1+cell": {
     "cellMetadata": {
      "byteLimit": 2048000,
      "rowLimit": 10000
     },
     "inputWidgets": {},
     "nuid": "69237ccf-93e7-4348-baa0-ec47a8a7b7eb",
     "showTitle": false,
     "title": ""
    }
   },
   "outputs": [
    {
     "name": "stdout",
     "output_type": "stream",
     "text": [
      "Row(ingredients=['chicken breast', 'butter', 'cream chicken soup', 'onion', 'biscuit dough'])\n",
      "Row(ingredients=['cream mushroom soup', 'onion soup'])\n",
      "Row(ingredients=['ketchup', 'lean beef', 'milk', 'eggs', 'onion', 'ginger', 'saltine cracker crumbs'])\n",
      "Row(ingredients=['butter', 'eggs', 'vanilla extract', 'flour', 'chocolate chips', 'walnuts'])\n",
      "Row(ingredients=['wheat rotini pasta', 'broccoli', 'onion', 'garlic', 'butter', 'flour', 'milk', 'cheddar cheese', 'cream cheese', 'bread crumbs'])\n",
      "Row(ingredients=['flour', 'butter', 'eggs', 'overripe bananas'])\n",
      "Row(ingredients=['potato crust', 'russet potatoes', 'chunks', 'butter', 'nutmeg', 'cayenne', 'milk', 'spinach', 'olive', 'spinach leaves', 'sauce', 'butter', 'flour', 'garlic', 'milk', 'lemon zest', 'rest', 'butter', 'cayenne', 'cod fillets', 'lemon', 'chives garnish'])\n",
      "Row(ingredients=['flour', 'cinnamon', 'eggs', 'vegetable', 'vanilla extract', 'zucchini', 'walnuts'])\n",
      "Row(ingredients=['butter', 'eggs', 'vanilla extract', 'flour'])\n",
      "Row(ingredients=['sauce', 'ketchup', 'chicken', 'egg', 'soy sauce', 'chilegarlic sauce sambal oelek', 'oyster sauce', 'tamarind paste', 'fish sauce', 'palm', 'shallot', 'garlic', 'vegetable', 'ginger root', 'serrano', 'dungeness crabs', 'cracked', 'cilantro', 'onion'])\n",
      "Row(ingredients=['pumpkin puree', 'eggs', 'vegetable', 'flour', 'cinnamon', 'nutmeg', 'ginger'])\n",
      "Row(ingredients=['flour', 'butter', 'vanilla extract', 'egg', 'egg yolk', 'chocolate chips'])\n",
      "Row(ingredients=['cauliflower', 'potato flakes', 'milk', 'cheddar cheese'])\n",
      "Row(ingredients=['bacon', 'lamb shoulder', 'flour', 'garlic', 'onion', 'beef', 'carrots', 'onions', 'bitesize', 'potatoes', 'thyme', 'bay leaves', 'wine'])\n",
      "Row(ingredients=['flour', 'vegetable', 'egg', 'milk', 'blueberries', 'flour', 'butter', 'cinnamon'])\n",
      "Row(ingredients=['parmesan cheese', 'butter', 'mayonnaise', 'lemon juice', 'basil', 'onion powder', 'celery', 'tilapia fillets'])\n",
      "Row(ingredients=['flour', 'butter', 'vanilla pudding', 'eggs', 'vanilla extract', 'chocolate chips', 'walnuts'])\n",
      "Row(ingredients=['sweet sausage', 'lean beef', 'onion', 'garlic', 'tomatoes', 'tomato paste', 'tomato sauce', 'basil leaves', 'fennel seeds', 'parsley', 'lasagna noodles', 'ricotta cheese', 'egg', 'mozzarella cheese', 'parmesan cheese'])\n",
      "Row(ingredients=['butter', 'eggs', 'vanilla extract', 'unsweetened cocoa powder', 'flour', 'frosting', 'butter', 'unsweetened cocoa powder', 'vanilla extract'])\n",
      "Row(ingredients=['flour', 'raisins', 'caraway seeds', 'eggs', 'buttermilk', 'sour cream'])\n",
      "Row(ingredients=['potatoes', 'celery', 'onion', 'ham', 'chicken bouillon granules', 'butter', 'flour', 'milk'])\n",
      "Row(ingredients=['chicken breast', 'carrots', 'peas', 'celery', 'butter', 'onion', 'flour', 'celery seed', 'chicken', 'milk', 'pie crusts'])\n",
      "Row(ingredients=['milk', 'vinegar', 'flour', 'egg', 'butter', 'spray'])\n",
      "Row(ingredients=['flour', 'milk', 'egg', 'butter'])\n",
      "Row(ingredients=['flour', 'bananas', 'egg', 'butter', 'flour', 'cinnamon', 'butter'])\n",
      "Row(ingredients=['fudge brownie duncan hines', 'irish cream baileys', 'vegetable', 'eggs', 'butter', 'irish cream baileys'])\n",
      "Row(ingredients=['pastry crust pie', 'butter', 'flour', 'apples'])\n",
      "Row(ingredients=['potatoes', 'cabbage', 'onions', 'butter', 'cream'])\n",
      "Row(ingredients=['maple', 'balsamic', 'garlic powder', 'pinches cayenne', 'nutmeg', 'chipotle', 'chicken breast', 'olive'])\n",
      "Row(ingredients=['chicken breast', 'barbeque sauce', 'salad', 'worcestershire sauce'])\n",
      "Row(ingredients=['chicken breast', 'slices swiss cheese', 'slices ham', 'flour', 'paprika', 'butter', 'wine', 'chicken bouillon granules', 'cream'])\n",
      "Row(ingredients=['graham crackers', 'butter', 'cream cheese', 'milk', 'eggs', 'sour cream', 'vanilla extract', 'flour'])\n",
      "Row(ingredients=['soy sauce', 'cider vinegar', 'clove garlic', 'ginger', 'chicken thighs'])\n",
      "Row(ingredients=['avocados', 'lime', 'onion', 'cilantro', 'roma plum tomatoes', 'garlic', 'cayenne'])\n",
      "Row(ingredients=['beef chuck', 'bulk sausage', 'chili beans', 'chili beans spicy sauce', 'tomatoes juice', 'tomato paste', 'onion', 'celery', 'bell', 'bell', 'chile peppers', 'bacon bits', 'beef bouillon', 'beer', 'chili powder', 'worcestershire sauce', 'garlic', 'oregano', 'cumin', 'sauce eg tabasco', 'basil', 'cayenne', 'paprika', 'bag corn chips fritos', 'cheddar cheese'])\n",
      "Row(ingredients=['pork chops', 'garlic powder', 'egg', 'flour', 'italianstyle bread crumbs', 'olive', 'cream mushroom soup', 'milk', 'wine'])\n",
      "Row(ingredients=['flour', 'butter', 'egg', 'vanilla extract'])\n",
      "Row(ingredients=['onion', 'chili beans', 'beans', 'kernel corn', 'tomato sauce', 'fluid beer', 'tomatoes chilies', 'undrained', 'taco', 'chicken breasts', 'cheddar cheese', 'sour cream', 'tortilla chips'])\n",
      "Row(ingredients=['butter', 'eggs', 'buttermilk', 'cornmeal', 'flour'])\n",
      "Row(ingredients=['ziti pasta', 'onion', 'lean beef', 'spaghetti sauce', 'cheese', 'sour cream', 'mozzarella cheese', 'parmesan cheese'])\n",
      "Row(ingredients=['butter', 'eggs', 'vanilla extract', 'flour', 'sour cream', 'walnuts', 'bananas'])\n",
      "Row(ingredients=['flour', 'ginger', 'cinnamon', 'egg'])\n",
      "Row(ingredients=['butter', 'eggs', 'vanilla extract', 'flour', 'cream tartar', 'cinnamon'])\n",
      "Row(ingredients=['chili powder', 'garlic powder', 'onion powder', 'flakes', 'oregano', 'paprika', 'cumin', 'sea'])\n",
      "Row(ingredients=['lean beef', 'onion', 'bell', 'garlic powder', 'mustard', 'ketchup'])\n",
      "Row(ingredients=['milk', 'eggs', 'bread machine', 'cinnamon', 'butter', 'cream cheese', 'butter', 'vanilla extract'])\n",
      "Row(ingredients=['devils food cake', 'chocolate pudding', 'sour cream', 'vegetable', 'eggs', 'chocolate chips'])\n",
      "Row(ingredients=['eggs', 'vegetable', 'vanilla extract', 'flour', 'cinnamon', 'carrots', 'pecans', 'butter', 'cream cheese', 'vanilla extract', 'pecans'])\n",
      "Row(ingredients=['apples', 'flour', 'cinnamon', 'quickcooking oats', 'flour', 'butter'])\n",
      "Row(ingredients=['active', 'vegetable'])\n",
      "Row(ingredients=['russet potatoes', 'slices', 'onion', 'rings', 'butter', 'flour', 'milk', 'cheddar cheese'])\n",
      "Row(ingredients=['olive', 'garlic', 'bread crumbs', 'parmesan cheese', 'chicken breast'])\n",
      "Row(ingredients=['salmon fillets', 'lemon', 'garlic powder', 'soy sauce', 'vegetable'])\n",
      "Row(ingredients=['chunk chicken', 'cream cheese', 'ranch', 'sauce franks', 'cheddar cheese', 'celery', 'chickenflavored crackers'])\n",
      "Row(ingredients=['chicken breast', 'taco', 'cheddar cheese', 'sour cream'])\n",
      "Row(ingredients=['butter', 'cream cheese', 'garlic powder', 'milk', 'parmesan cheese'])\n",
      "Row(ingredients=['butter', 'eggs', 'vanilla extract', 'flour', 'quickcooking oats', 'walnuts', 'chocolate chips'])\n",
      "Row(ingredients=['flour coating', 'oregano', 'chicken breast pounded', 'butter', 'olive', 'mushrooms', 'marsala wine', 'sherry'])\n",
      "Row(ingredients=['chicken', 'tomatoes', 'enchilada sauce', 'onion', 'chile peppers', 'garlic', 'chicken', 'cumin', 'chili powder', 'bay leaf', 'corn', 'cilantro', 'corn tortillas', 'vegetable'])\n",
      "Row(ingredients=['uncooked rice', 'milk', 'egg', 'golden raisins', 'butter', 'vanilla extract'])\n",
      "Row(ingredients=['cinnamon', 'butter', 'eggs', 'bananas', 'sour cream', 'vanilla extract', 'cinnamon', 'flour', 'walnuts'])\n",
      "Row(ingredients=['vegetable', 'onion', 'garlic', 'quinoa', 'vegetable', 'cumin', 'cayenne', 'corn kernels', 'beans', 'cilantro'])\n",
      "Row(ingredients=['beef', 'egg', 'onion', 'milk', 'bread crumbs', 'mustard', 'ketchup'])\n",
      "Row(ingredients=['kiwis', 'golden delicious apples', 'raspberries', 'strawberries', 'fruit', 'flavor', 'flour tortillas', 'butter flavored spray', 'cinnamon'])\n",
      "Row(ingredients=['butter', 'onions', 'garlic powder', 'chiles', 'cream mushroom soup', 'sour cream', 'chicken breast meat', 'cheddar cheese', 'flour tortillas', 'milk'])\n",
      "Row(ingredients=['pork tenderloin', 'fluid root beer', 'favorite barbecue sauce', 'hamburger buns', 'split'])\n",
      "Row(ingredients=['cream cheese', 'butter', 'sifted', 'vanilla extract'])\n",
      "Row(ingredients=['butter', 'butter flavored', 'eggs', 'vanilla extract', 'flour', 'cinnamon', 'rolled oats', 'raisins'])\n",
      "Row(ingredients=['maple', 'soy sauce', 'clove garlic', 'garlic', 'salmon'])\n",
      "Row(ingredients=['beef stew meat', 'flour', 'clove garlic', 'bay leaf', 'paprika', 'worcestershire sauce', 'onion', 'beef', 'potatoes', 'carrots', 'stalk celery'])\n",
      "Row(ingredients=['butter', 'vanilla extract', 'eggs', 'flour', 'unsweetened cocoa powder', 'chocolate chips'])\n",
      "Row(ingredients=['flour', 'milk', 'eggs', 'cinnamon', 'vanilla extract', 'slices bread'])\n",
      "Row(ingredients=['beef stew meat', 'golden mushroom soup', 'onion', 'worcestershire sauce', 'cream cheese'])\n",
      "Row(ingredients=['butter', 'eggs', 'vanilla extract', 'flour', 'cinnamon', 'quick oats'])\n",
      "Row(ingredients=['paprika', 'onion powder', 'thyme', 'cayenne', 'garlic powder', 'onions', 'chickens'])\n",
      "Row(ingredients=['french onion soup', 'beef', 'bread crumbs', 'egg', 'flour', 'ketchup', 'worcestershire sauce', 'mustard powder'])\n",
      "Row(ingredients=['chicken breast', 'garlic', 'olive', 'onion', 'tomatoes', 'balsamic vinegar', 'basil', 'oregano', 'rosemary', 'thyme'])\n",
      "Row(ingredients=['butter', 'almonds', 'spinach', 'bitesize', 'cranberries', 'sesame seeds', 'poppy seeds', 'onion', 'paprika', 'wine vinegar', 'cider vinegar', 'vegetable'])\n",
      "Row(ingredients=['mushrooms', 'vegetable', 'garlic', 'cream cheese', 'parmesan cheese', 'onion powder', 'cayenne'])\n",
      "Row(ingredients=['olive', 'ranch', 'worcestershire sauce', 'rosemary', 'lemon juice', 'vinegar', 'chicken breast'])\n",
      "Row(ingredients=['flour', 'milk'])\n",
      "Row(ingredients=['chicken breast', 'italianstyle salad', 'cream cheese', 'cream chicken soup'])\n",
      "Row(ingredients=['rump', 'beef', 'french onion soup', 'fluid beer', 'french rolls', 'butter'])\n",
      "Row(ingredients=['flour', 'butter', 'peanut butter', 'egg', 'vanilla extract', 'milk', 'miniature chocolate covered peanut butter', 'unwrapped'])\n",
      "Row(ingredients=['flour', 'cinnamon', 'nutmeg', 'butter', 'pumpkin puree', 'egg', 'vanilla extract', 'milk', 'butter', 'vanilla extract'])\n",
      "Row(ingredients=['beef', 'onion', 'garlic', 'olives', 'chili peppers', 'tomatoes chile peppers', 'taco sauce', 'refried beans', 'flour tortillas', 'colby cheese'])\n",
      "Row(ingredients=['soy sauce', 'ginger root', 'garlic', 'sauce', 'chicken breast', 'vegetable'])\n",
      "Row(ingredients=['active', 'olive', 'flour'])\n",
      "Row(ingredients=['chicken breast', 'butter', 'italianstyle salad', 'wine', 'golden mushroom soup', 'cream cheese chives', 'angel hair pasta'])\n",
      "Row(ingredients=['cream cheese', 'mayonnaise', 'chilies', 'jalapeno peppers', 'parmesan cheese'])\n",
      "Row(ingredients=['flour', 'buttermilk', 'milk', 'eggs', 'butter'])\n",
      "Row(ingredients=['butter', 'eggs', 'vanilla extract', 'flour', 'cocoa powder', 'chocolate chips', 'walnuts'])\n",
      "Row(ingredients=['bow tie pasta', 'olive', 'sweet sausage', 'casings', 'flakes', 'onion', 'garlic', 'italianstyle plum tomatoes', 'cream', 'parsley'])\n",
      "Row(ingredients=['brussels sprouts', 'ends leaves', 'olive', 'kosher'])\n",
      "Row(ingredients=['eggs', 'flour', 'milk', 'vegetable', 'vanilla extract'])\n",
      "Row(ingredients=['butter', 'cream', 'clove garlic', 'parmesan cheese', 'parsley'])\n",
      "Row(ingredients=['flour', 'paprika', 'cayenne', 'chicken wings', 'deep', 'butter', 'sauce', 'dash', 'dash garlic powder'])\n",
      "Row(ingredients=['milk', 'corn', 'almond extract', 'food coloring'])\n",
      "Row(ingredients=['extra lean beef', 'sea', 'onion', 'garlic', 'oregano', 'flakes', 'dash sauce franks redhot', 'worcestershire sauce', 'skim milk', 'parmesan cheese', 'bread crumbs'])\n",
      "Row(ingredients=['cream cheese', 'vanilla extract', 'eggs', 'graham cracker crust', 'pumpkin puree', 'cinnamon', 'nutmeg', 'whipped topping'])\n",
      "Row(ingredients=['butter', 'eggs', 'corn bread', 'kernel corn', 'creamed corn', 'sour cream'])\n",
      "Row(ingredients=['elbow macaroni', 'sharp cheddar cheese', 'curd cottage cheese', 'sour cream', 'parmesan cheese', 'bread crumbs', 'butter'])\n",
      "Row(ingredients=['meatballs', 'lean beef', 'bread crumbs', 'parsley', 'parmesan cheese', 'garlic powder', 'egg', 'sauce', 'onion', 'garlic', 'olive', 'tomatoes', 'bay leaf', 'tomato paste', 'basil'])\n",
      "Row(ingredients=['beef', 'pork ribs', 'barbeque sauce'])\n",
      "Row(ingredients=['eggplant', 'eggs', 'bread crumbs', 'spaghetti sauce', 'mozzarella cheese', 'parmesan cheese', 'basil'])\n",
      "Row(ingredients=['chicken breasts', 'chunks', 'vegetable', 'curry powder', 'onion', 'garlic', 'coconut milk', 'tomatoes', 'tomato sauce'])\n",
      "Row(ingredients=['butter', 'eggs', 'vanilla extract', 'flour', 'milk'])\n",
      "Row(ingredients=['flour', 'bananas', 'egg', 'butter'])\n",
      "Row(ingredients=['garlic', 'olive', 'tomato sauce', 'wine vinegar', 'basil', 'cayenne', 'shrimp', 'deveined', 'skewers'])\n",
      "Row(ingredients=['chicken breasts', 'mushrooms', 'flour', 'olive', 'garlic', 'balsamic vinegar', 'chicken', 'bay leaf', 'thyme', 'butter'])\n",
      "Row(ingredients=['apples', 'crescent roll dough', 'butter', 'cinnamon', 'fluid mountain dew'])\n",
      "Row(ingredients=['beef sirloin', 'garlic powder', 'vegetable', 'cube beef bouillon', 'onion', 'bell peppers', 'tomatoes', 'liquid', 'soy sauce'])\n",
      "Row(ingredients=['vegetable', 'chicken breast', 'teriyaki basting sauce', 'ranchstyle salad', 'cheddar cheese', 'onions', 'bacon bits', 'parsley', 'garnish'])\n",
      "Row(ingredients=['soy sauce', 'olive', 'lemon juice', 'worcestershire sauce', 'garlic powder', 'basil', 'parsley flakes', 'sauce', 'garlic'])\n",
      "Row(ingredients=['graham cracker crust', 'sweetened milk', 'sour cream', 'key lime juice', 'lime zest'])\n",
      "Row(ingredients=['beef', 'onion', 'garlic', 'tomato sauce', 'chili', 'kidney beans', 'dark kidney beans'])\n",
      "Row(ingredients=['roma plum tomatoes', 'sundried tomatoes', 'garlic', 'olive', 'balsamic vinegar', 'basil', 'stems', 'french baguette', 'mozzarella cheese'])\n",
      "Row(ingredients=['flour', 'eggs', 'milk', 'butter'])\n",
      "Row(ingredients=['slices dayold bread', 'butter', 'raisins', 'eggs', 'milk', 'cinnamon', 'vanilla extract'])\n",
      "Row(ingredients=['eggs', 'buttery cracker crumbs', 'garlic', 'chicken breast', 'butter'])\n",
      "Row(ingredients=['chocolate cookie crumbs', 'butter', 'raspberries', 'chocolate chips', 'cream', 'cream cheese', 'eggs', 'vanilla extract'])\n",
      "Row(ingredients=['sweet potato', 'eggs', 'butter', 'milk', 'vanilla extract', 'flour', 'butter', 'pecans'])\n",
      "Row(ingredients=['butter', 'dijon mustard', 'bread crumbs', 'pecans', 'parsley', 'fillets salmon', 'lemon', 'garnish'])\n",
      "Row(ingredients=['pork tenderloin', 'envelope onion soup', 'wine', 'garlic', 'soy sauce'])\n",
      "Row(ingredients=['cream cheese', 'sweetened milk', 'vanilla pudding', 'milk', 'vanilla extract', 'whipped topping', 'bananas', 'vanilla wafers'])\n",
      "Row(ingredients=['peaches', 'thin', 'cinnamon', 'nutmeg', 'lemon juice', 'flour', 'butter', 'chilled', 'boiling', 'together', 'cinnamon'])\n",
      "Row(ingredients=['baking potatoes', 'slices bacon', 'sour cream', 'milk', 'butter', 'cheddar cheese', 'onions'])\n",
      "Row(ingredients=['beans', 'bell', 'onion', 'garlic', 'egg', 'chili powder', 'cumin', 'thai chili sauce sauce', 'bread crumbs'])\n",
      "Row(ingredients=['bread machine', 'vegetable'])\n",
      "Row(ingredients=['oreo chocolate sandwich cookies', 'philadelphia cream cheese', 'bakers baking chocolate'])\n",
      "Row(ingredients=['ketchup', 'soy sauce', 'ginger', 'vegetable', 'onions', 'garlic', 'shrimp', 'tails'])\n",
      "Row(ingredients=['garlic', 'olive', 'basil', 'lemon juice', 'parsley', 'fillets salmon'])\n",
      "Row(ingredients=['butter', 'flour', 'onion', 'sour cream', 'french style beans', 'cheddar cheese', 'buttery crackers', 'butter'])\n",
      "Row(ingredients=['potatoes', 'butter', 'onion', 'cheddar cheese', 'carrots', 'vegetable', 'onion', 'lean beef', 'flour', 'ketchup', 'beef', 'cheddar cheese'])\n",
      "Row(ingredients=['vegetable', 'vanilla extract', 'flour', 'unsweetened cocoa powder', 'zucchini', 'walnuts', 'unsweetened cocoa powder', 'milk', 'vanilla extract'])\n",
      "Row(ingredients=['cayenne', 'paprika', 'garlic powder', 'onion powder', 'thyme', 'parsley', 'chicken breast', 'butter', 'olive', 'garlic powder', 'lime juice'])\n",
      "Row(ingredients=['wheat bread', 'bread', 'turkey sausage', 'onion', 'celery', 'sage', 'rosemary', 'thyme', 'golden delicious apple', 'cranberries', 'parsley', 'turkey liver', 'turkey', 'butter'])\n",
      "Row(ingredients=['lean beef', 'fluid tomato juice', 'tomato sauce', 'kidney beans', 'pinto beans', 'onion', 'bell', 'cayenne', 'oregano', 'cumin', 'chili powder'])\n",
      "Row(ingredients=['chicken', 'giblets', 'onion powder', 'stalk celery', 'leaves'])\n",
      "Row(ingredients=['garlic', 'spinach', 'artichoke hearts', 'alfredostyle pasta sauce', 'mozzarella cheese', 'parmesan cheese', 'cream cheese'])\n",
      "Row(ingredients=['olive', 'clove garlic', 'bread crumbs', 'parmesan cheese', 'basil leaves', 'chicken breast'])\n",
      "Row(ingredients=['lean beef', 'buttery crackers', 'cheddar cheese', 'onion soup', 'eggs', 'ketchup', 'steak sauce'])\n",
      "Row(ingredients=['bag coleslaw', 'onion', 'creamy salad miracle whip', 'vegetable', 'vinegar', 'poppy seeds'])\n",
      "Row(ingredients=['milk', 'egg', 'butter', 'flour', 'active', 'butter'])\n",
      "Row(ingredients=['sausage', 'clove garlic', 'beef', 'italianstyle tomatoes', 'carrots', 'great northern beans', 'undrained', 'zucchini', 'spinach'])\n",
      "Row(ingredients=['butter', 'crunchy peanut butter', 'eggs', 'flour'])\n",
      "Row(ingredients=['chicken breast pounded thickness', 'slices bacon', 'half', 'mustard', 'corn', 'mayonnaise', 'onion flakes', 'vegetable', 'mushrooms', 'colbymonterey jack cheese', 'parsley'])\n",
      "Row(ingredients=['butter', 'garlic', 'bread crumbs', 'parmesan cheese', 'cheddar cheese', 'parsley', 'oregano', 'chicken breast pounded thin'])\n",
      "Row(ingredients=['onion', 'butternut squash', 'chicken bouillon', 'marjoram', 'cayenne', 'cream cheese'])\n",
      "Row(ingredients=['vegetable', 'soy sauce', 'chicken breast', 'garlic', 'onions', 'bell peppers', 'skewers'])\n",
      "Row(ingredients=['flour', 'active', 'vegetable'])\n",
      "Row(ingredients=['milk', 'pumpkin puree', 'egg', 'vegetable', 'vinegar', 'flour', 'allspice', 'cinnamon', 'ginger'])\n",
      "Row(ingredients=['beef stew meat', 'vegetable', 'beef bouillon', 'rosemary', 'parsley', 'potatoes', 'carrots', 'celery', 'onion'])\n",
      "Row(ingredients=['soy sauce', 'vegetable', 'worcestershire sauce', 'lemon juice', 'ketchup', 'pork chops'])\n",
      "Row(ingredients=['chicken breast', 'onion', 'sour cream', 'cheddar cheese', 'parsley', 'oregano', 'tomato sauce', 'chili powder', 'bell', 'clove garlic', 'flour tortillas', 'taco sauce', 'cheddar cheese'])\n",
      "Row(ingredients=['pumpkin', 'eagle brand sweetened milk', 'eggs', 'cinnamon', 'ginger', 'nutmeg', 'pie crust'])\n",
      "Row(ingredients=['vegetable', 'uncooked longgrain rice', 'garlic', 'cumin', 'onion', 'tomato sauce', 'chicken'])\n",
      "Row(ingredients=['flour', 'unsweetened cocoa powder', 'eggs', 'milk', 'vegetable', 'vanilla extract', 'boiling'])\n",
      "Row(ingredients=['yogurt', 'lemon juice', 'cumin', 'cinnamon', 'cayenne', 'ginger', 'chicken breasts', 'bitesize', 'skewers', 'butter', 'clove garlic', 'jalapeno', 'cumin', 'paprika', 'tomato sauce', 'cream', 'cilantro'])\n",
      "Row(ingredients=['garlic', 'olive', 'cauliflower', 'separated', 'parmesan cheese', 'parsley'])\n",
      "Row(ingredients=['linguine pasta', 'chicken breast', 'thin', 'cajun', 'butter', 'bell', 'bell', 'mushrooms', 'onion', 'cream', 'basil', 'lemon', 'garlic powder', 'parmesan cheese'])\n",
      "Row(ingredients=['sesame seeds', 'poppy seeds', 'olive', 'distilled vinegar', 'paprika', 'worcestershire sauce', 'onion', 'spinach', 'bitesize', 'strawberries', 'hulled', 'almonds'])\n",
      "Row(ingredients=['bell peppers', 'beef', 'onion', 'tomatoes', 'worcestershire sauce', 'uncooked rice', 'cheddar cheese', 'tomato soup'])\n",
      "Row(ingredients=['cream cheese', 'mayonnaise', 'parmesan cheese', 'romano cheese', 'clove garlic', 'basil', 'garlic', 'artichoke hearts', 'spinach', 'mozzarella cheese'])\n",
      "Row(ingredients=['butter', 'graham cracker crumbs', 'peanut butter', 'chocolate chips', 'peanut butter'])\n",
      "Row(ingredients=['active', 'olive'])\n",
      "Row(ingredients=['chicken breast', 'mustard', 'basil', 'paprika', 'parsley'])\n",
      "Row(ingredients=['butter', 'onion', 'celery', 'chicken', 'vegetable', 'chicken breast', 'egg noodles', 'carrots', 'basil', 'oregano'])\n",
      "Row(ingredients=['flour', 'cornmeal', 'egg', 'milk', 'vegetable'])\n",
      "Row(ingredients=['lean beef', 'onion', 'garlic', 'basil', 'oregano', 'tomatoes', 'tomato paste', 'lasagna noodles', 'eggs', 'partskim ricotta cheese', 'parmesan cheese', 'parsley', 'mozzarella cheese', 'parmesan cheese'])\n",
      "Row(ingredients=['butter', 'onion', 'broccoli', 'chicken', 'loaf processed cheese food', 'milk', 'garlic powder'])\n",
      "Row(ingredients=['artichoke hearts', 'parmesan cheese', 'mayonnaise', 'garlic', 'chicken breast'])\n",
      "Row(ingredients=['eggs', 'vegetable', 'vanilla extract', 'zucchini', 'flour', 'cinnamon', 'blueberries'])\n",
      "Row(ingredients=['beef', 'egg', 'bread crumbs', 'onion powder', 'garlic powder', 'worcestershire sauce', 'vegetable', 'onion', 'flour', 'beef', 'sherry'])\n",
      "Row(ingredients=['eggs', 'buttermilk', 'vegetable', 'vanilla extract', 'cinnamon', 'flour', 'carrots', 'flaked coconut', 'walnuts', 'pineapple juice', 'raisins'])\n",
      "Row(ingredients=['peanut butter', 'eggs', 'flour', 'quickcooking oats'])\n",
      "Row(ingredients=['flour', 'unsweetened cocoa powder', 'eggs', 'strong coffee', 'buttermilk', 'vegetable', 'vanilla extract'])\n",
      "Row(ingredients=['peanut butter', 'egg'])\n",
      "Row(ingredients=['taco', 'refried beans', 'cream cheese', 'sour cream', 'tomato', 'bell', 'onions', 'iceberg lettuce', 'olives', 'cheddar cheese'])\n",
      "Row(ingredients=['soy sauce', 'balsamic vinegar', 'ginger root', 'clove garlic', 'olive', 'mahi mahi fillets', 'vegetable'])\n",
      "Row(ingredients=['chicken', 'olive', 'portobello mushrooms', 'mushrooms', 'shallots', 'arborio rice', 'wine', 'sea', 'chives', 'butter', 'parmesan cheese'])\n",
      "Row(ingredients=['sweet potato', 'butter', 'milk', 'eggs', 'nutmeg', 'cinnamon', 'vanilla extract', 'pie crust'])\n",
      "Row(ingredients=['chicken', 'chicken breast', 'quick grain wild rice', 'flour', 'butter', 'cream'])\n",
      "Row(ingredients=['pastry crust pie', 'butter', 'flour', 'apples'])\n",
      "Row(ingredients=['apples', 'cinnamon'])\n",
      "Row(ingredients=['chicken breast meat chunks', 'cream chicken soup', 'sour cream', 'chili powder', 'butter', 'onion', 'chilies', 'taco', 'onions', 'lime juice', 'onion powder', 'garlic powder', 'flour tortillas', 'cheddar cheese', 'enchilada sauce', 'olives'])\n",
      "Row(ingredients=['chicken breast', 'butter', 'garlic', 'lemon juice', 'cream mushroom soup', 'parmesan cheese', 'spinach', 'mushrooms', 'bacon bits', 'mozzarella cheese'])\n",
      "Row(ingredients=['vegetable', 'onion', 'garlic', 'kidney beans', 'chili powder', 'mustard', 'cumin', 'cayenne', 'soy sauce', 'sweet potatoes', 'flour tortillas', 'warmed', 'cheddar cheese'])\n",
      "Row(ingredients=['tomato paste', 'fluid', 'parmesan cheese', 'garlic', 'anchovy paste', 'onion powder', 'oregano', 'marjoram', 'basil', 'cayenne', 'flakes'])\n",
      "Row(ingredients=['bulk sausage', 'flakes', 'slices bacon', 'onion', 'garlic', 'chicken', 'potatoes', 'cream', 'spinach', 'tough stems'])\n",
      "Row(ingredients=['bacon', 'smokie sausages'])\n",
      "Row(ingredients=['nutmeg', 'milk', 'flour', 'cinnamon'])\n",
      "Row(ingredients=['chicken breast meat', 'wine vinegar', 'lime', 'onions', 'garlic', 'oregano', 'flour tortillas', 'tomato', 'lettuce', 'jack cheese'])\n",
      "Row(ingredients=['flour', 'egg', 'beer', 'plain yogurt', 'mayonnaise', 'lime', 'jalapeno', 'capers', 'oregano', 'cumin', 'dill weed', 'cayenne', 'cod fillets', 'portions', 'corn tortillas', 'cabbage'])\n",
      "Row(ingredients=['chicken wings', 'olive', 'soy sauce', 'ketchup', 'clove garlic'])\n",
      "Row(ingredients=['butter', 'eggs', 'flour', 'milk', 'vanilla extract', 'pecans'])\n",
      "Row(ingredients=['oregano', 'basil', 'onion', 'parsley', 'garlic powder', 'bay leaf', 'italianstyle salad', 'rump'])\n",
      "Row(ingredients=['chicken breast', 'fluid buffalo wing sauce', 'ranch salad', 'butter', 'hoagie rolls', 'split lengthwise'])\n",
      "Row(ingredients=['butter', 'garlic', 'sundried tomatoes', 'chicken', 'cream', 'chicken breast', 'vegetable', 'basil', 'fettuccini pasta'])\n",
      "Row(ingredients=['flour', 'eggs', 'milk', 'butter', 'vanilla extract'])\n",
      "Row(ingredients=['hash potatoes', 'ham', 'cream potato soup', 'sour cream', 'sharp cheddar cheese', 'parmesan cheese'])\n",
      "Row(ingredients=['sour cream', 'flour', 'cream tartar', 'butter', 'egg', 'raisins'])\n",
      "Row(ingredients=['asparagus', 'spray', 'butter', 'soy sauce', 'balsamic vinegar'])\n",
      "Row(ingredients=['dijon mustard', 'mayonnaise', 'steak sauce', 'chicken breast'])\n",
      "Row(ingredients=['beef chuck', 'butter', 'onions', 'parts', 'flour', 'beef', 'mustard', 'mushrooms', 'sour cream', 'wine'])\n",
      "Row(ingredients=['egg', 'milk', 'cheddar cheese', 'quick oats', 'beef', 'ketchup', 'mustard'])\n",
      "Row(ingredients=['butter', 'dijonstyle mustard', 'lemon juice', 'garlic', 'parsley', 'raw shrimp', 'shelled', 'deveined', 'tails'])\n",
      "Row(ingredients=['onion', 'uncooked rice', 'chicken', 'chunky'])\n",
      "Row(ingredients=['vegetable', 'onion', 'spinach', 'eggs', 'muenster cheese'])\n",
      "Row(ingredients=['cornmeal', 'milk', 'flour', 'eggs', 'vegetable'])\n",
      "Row(ingredients=['olive', 'garlic', 'onions', 'celery', 'carrots', 'chicken', 'tomato sauce', 'wine', 'kidney beans', 'beans', 'spinach', 'zucchinis', 'oregano', 'basil', 'seashell pasta', 'parmesan cheese topping', 'olive'])\n",
      "Row(ingredients=['butter', 'flour', 'eggs', 'flour', 'lemons'])\n",
      "Ro\n",
      "\n",
      "*** WARNING: max output size exceeded, skipping output. ***\n",
      "\n",
      "'soybean sprouts'])\n",
      "Row(ingredients=['extravirgin olive', 'butter', 'new potatoes', 'scrubbed', 'carrots', 'scrubbed', 'turnips', 'scrubbed', 'parsnips', 'scrubbed', 'kosher', 'butter', 'herbs like thyme', 'mint', 'chives', 'parsley', 'chervil', 'kosher'])\n",
      "Row(ingredients=['chicken', 'celery', 'carrots', 'onions', 'poultry', 'parsley', 'cumin', 'oregano', 'kosher', 'bay leaf', 'french bread'])\n",
      "Row(ingredients=['tequila', 'lime juice', 'simple', 'glass', 'mint', 'garnish'])\n",
      "Row(ingredients=['potatoes', 'rolled oats', 'butter', 'butter'])\n",
      "Row(ingredients=['vineripe tomatoes', 'extravirgin olive', 'drizzling', 'stems thyme', 'leaves'])\n",
      "Row(ingredients=['mayonnaise', 'lime juice', 'chipotle adobo sauce'])\n",
      "Row(ingredients=['cherry tomatoes', 'cucumbers', 'persian cucumbers', 'jalapeno chile', 'stemmed', 'deveined', 'serrano chile', 'stemmed', 'deveined', 'shallots', 'clove garlic', 'apple cider vinegar', 'sauce recommended tabasco', 'kosher', 'extra', 'vegetable', 'storebought', 'precooked polenta', 'parmesan'])\n",
      "Row(ingredients=['nonstick spray', 'pecans', 'flour', 'extra shaping dough', 'butter', 'icecold', 'ice', 'egg', 'egg yolk', 'dark corn', 'pumpkin pie filling', 'vanilla', 'pecans', 'garnish', 'special equipment mini muffin tins'])\n",
      "Row(ingredients=['mushrooms cremini', 'shiitake', 'morel', 'hedgehog', 'chanterelle', 'organic butter', 'shallots', 'clove garlic', 'peas', 'salami', 'celtic sea', 'cornmeal', 'parmigianoreggiano', 'organic butter', 'celtic sea'])\n",
      "Row(ingredients=['eggs', 'separated', 'flour', 'cocoa powder', 'almond meal', 'espresso', 'egg yolks', 'chocolate', 'cream', 'whipped', 'chocolate ganache', 'follows', 'cocoa powder'])\n",
      "Row(ingredients=['grapefruit juice', 'juice', 'lemon', 'dash bitters'])\n",
      "Row(ingredients=[])\n",
      "Row(ingredients=['coriander roots', 'scraped', 'garlic', 'peppercorns', 'chickens', 'poussin cornish game hens', 'fish sauce', 'palm', 'scraped coriander root', 'garlic', 'chiles', 'deseeded', 'vinegar'])\n",
      "Row(ingredients=['cool', 'potato', 'testing salinity', 'salmon fillets', 'liquid', 'islay whisky', 'salad greens', 'follows', 'virgin olive', 'juice', 'oakaged balsamic vinegar', 'lemon juice', 'handful tarragon', 'handfuls greens'])\n",
      "Row(ingredients=['eggs', 'milk', 'flour', 'butter', 'apple', 'raisins'])\n",
      "Row(ingredients=['pumpkin seeds', 'sunflower seeds', 'nonstick spray', 'maple', 'unsweetened cranberry juice', 'cinnamon', 'old fashioned rolled oats', 'salted almonds', 'sea', 'cranberries'])\n",
      "Row(ingredients=['garlic', 'parsley leaves', 'lime', 'olive', 'ribeye steaks', 'poblanos', 'parsley leaves', 'limes', 'watermelon', 'seeds', 'carton raspberries', 'coconut', 'feta', 'sweet onion', 'wine vinegar', 'extravirgin olive', 'vanilla', 'cayenne', 'mint leaves', 'onion', 'mission figs', 'balsamic vinegar', 'chili flakes', 'olive'])\n",
      "Row(ingredients=['crisco original nostick spray', 'oz pillsbury reduced devils food cake', 'crisco butter', 'eggs', 'pillsbury reduced vanilla frosting', 'pillsbury reduced chocolate fudge frosting'])\n",
      "Row(ingredients=['olive', 'garlic', 'slices bread', 'porterhouse steak', 'vineripened tomatoes', 'nicoise olives', 'basil', 'onion', 'olive', 'balsamic vinegar', 'olive', 'onion', 'bell', 'bell', 'garlic', 'yukon potatoes', 'parboiled', 'parsley'])\n",
      "Row(ingredients=['mediumsize sweet potatoes', 'cinnamon', 'nutmeg', 'cayenne', 'butter', 'vegetable', 'greasing roasting tray', 'kosher', 'pecans'])\n",
      "Row(ingredients=['fish sauce soy sauce', 'heaping ginger', 'garlic', 'juice lime', 'scallions', 'flank steak', 'garlic', 'ginger', 'vegetable', 'vegetables bell peppers', 'broccoli', 'snow peas', 'bok choy', 'etc', 'soy sauce', 'rice', 'serving'])\n",
      "Row(ingredients=['seafood', 'old bay', 'ears corn', 'husked', 'deveined', 'shellon shrimp', 'kielbasa', 'lengthwise', 'garlic', 'bay leaves', 'onions', 'eighths', 'parsley', 'lemon juice', 'crusty bread', 'serving', 'bliss potatoes diameter'])\n",
      "Row(ingredients=['ancho chilies', 'garlic', 'fennel seeds', 'allspice', 'juice', 'olive', 'sprigs mexican oregano', 'tuna steaks', 'spinachtomatillo rice cake', 'follows', 'ancho chile wine sauce', 'follows', 'olive', 'arborio rice', 'parmesan', 'butter', 'butter sauteing', 'spinach', 'tomatillo sauce', 'follows', 'flour', 'tomatillos', 'husked scrubbed', 'garlic', 'onion', 'olive', 'chipotle puree', 'cilantro', 'ancho chilies', 'soft', 'wine', 'wine vinegar', 'olive'])\n",
      "Row(ingredients=['shiitake mushrooms', 'crimini mushrooms', 'button mushrooms', 'morel mushrooms', 'portobello mushrooms', 'bay leaves', 'peppercorns', 'clarified butter', 'shallots', 'garlic', 'curry powder', 'basil', 'thyme', 'rosemary parsley', 'bell', 'spanish olive', 'truffle hazelnut', 'rice vinegar'])\n",
      "Row(ingredients=['vegetable', 'leeks', 'garlic', 'separated', 'sweet potatoes', 'chunks', 'chicken', 'feta cheese', 'chives'])\n",
      "Row(ingredients=['boston pork butt', 'mustard', 'rub recommended world bbq rub', 'apple juice apple cider'])\n",
      "Row(ingredients=['harina trigo wheat flour', 'made goya foods corn harina corn flour made hominy', 'bobs mill goya foods', 'chicken', 'grapeseed', 'griddle'])\n",
      "Row(ingredients=['racks pork ribs', 'kosher', 'one apricot', 'ketchup', 'mustard', 'soy sauce', 'garlic', 'chipotle peppers adobo', 'piece ginger', 'sauce'])\n",
      "Row(ingredients=['peanut', 'onions', 'piece fish guedge yete possible', 'tomato paste', 'slightly salted', 'parsley', 'garlic', 'bird chile', 'scallions', 'sea bass tail', 'steaks inches', 'calabaza', 'dice', 'sweet cassava', 'dice', 'turnips', 'cabbage', 'eighths', 'sweet potatoes', 'eggplants', 'slices', 'carrots', 'scraped chunks', 'okra pods', 'washed topped tailed hard pods', 'habanero chile', 'pricked fork', 'broken rice'])\n",
      "Row(ingredients=['chili powder', 'pineapple', 'chunks', 'wooden skewers', 'serving'])\n",
      "Row(ingredients=['bag success jasmine rice', 'success rice success rice', 'cinnamon', 'oz low sodium chicken', 'tbsp cumin powder', 'tsp', 'tsp', 'pork tenderloin lb', 'tbsps butter', 'onion', 'tbsps juice', 'pkg oz spinach'])\n",
      "Row(ingredients=['coffee', 'shot espressoflavored tequila', 'chili powder', 'cinnamon'])\n",
      "Row(ingredients=['almonds', 'egg whites', 'cream tartar', 'freezedried coffee', 'boiling', 'chocolate ganache', 'chocolate', 'cream'])\n",
      "Row(ingredients=['champagne vinegar', 'dijon mustard', 'garlic', 'egg yolk', 'kosher', 'good olive', 'salad greens mesclun people'])\n",
      "Row(ingredients=['almonds', 'cinnamon', 'zest'])\n",
      "Row(ingredients=['egg whites', 'cream tartar', 'preferably superfine', 'unsweetened cocoa', 'chocolate', 'cookie sheet lined parchment paper', 'pastry bag fitted plain tip ateco'])\n",
      "Row(ingredients=['leftover poaching flounder', 'follows', 'wine vinegar', 'kosher', 'lime juice', 'drops sauce', 'scallions', 'parsley leaves', 'lemon slices flounder', 'follows', 'leftover flounder', 'follows', 'flaked', 'olive', 'flounder fillets', 'kosher', 'lemons', 'parsley', 'thoroughly'])\n",
      "Row(ingredients=['extravirgin olive', 'onion', 'garlic', 'mushrooms cremini', 'oyster', 'shiitake', 'marsala', 'chicken', 'cream', 'basil leaves', 'flatleaf parsley', 'parmesan'])\n",
      "Row(ingredients=['angus chuck beef', 'kosher', 'bacon', 'sesame seed burger buns', 'organic freerange eggs', 'quebec cheese curds', 'leaves lettuce', 'serving', 'slices heirloom tomato', 'serving', 'slices dill pickle', 'serving', 'slices jalapeno', 'serving', 'slices onion', 'serving', 'portuguese aioli favorite aioli', 'serving'])\n",
      "Row(ingredients=['onion', 'lemon grass', 'celery', 'well scrubbed', 'leek', 'several times remove grit', 'ginger root', 'covering scraped tip spoon', 'lean fish scraps shrimp shells', 'egg whites', 'fish', 'chilled', 'lemon', 'edamame immature soybeans pods', 'shrimp', 'deveined', 'shells tails', 'veins', 'egg whites', 'scallions', 'tender parts'])\n",
      "Row(ingredients=['top loin pork', 'japanese bread crumbs', 'fontina cheese', 'sage', 'thin slices prosciutto'])\n",
      "Row(ingredients=['flour', 'sifted', 'rolling', 'butter', 'egg', 'vanilla extract', 'meringue powder', 'sanding'])\n",
      "Row(ingredients=['cream', 'milk', 'mint sprigs', 'chocolate cacao'])\n",
      "Row(ingredients=['vegetable', 'corned beef', 'onion', 'bell', 'baking potatoes', 'butter', 'eggs', 'kosher', 'slices cheddar cheese'])\n",
      "Row(ingredients=['kosher', 'buckwheat soba noodles', 'creamy almond butter', 'soy sauce', 'lime juice', 'extravirgin olive', 'sesame', 'wasabi paste', 'one piece ginger', 'one napa cabbage', 'onions', 'bell', 'hothouse cucumber', 'lengthwise inchthick halfmoon shapes', 'almonds', 'see cooks note', 'sesame seeds'])\n",
      "Row(ingredients=['lowsodium chicken', 'olive', 'scallions', 'parts', 'longgrain rice', 'walnuts'])\n",
      "Row(ingredients=['floppy flowers'])\n",
      "Row(ingredients=['vanilla bean vanilla extract', 'cinnamon', 'heaping espresso', 'chocolate', 'best quality possible', 'milk', 'vanilla ice cream', 'chili powder'])\n",
      "Row(ingredients=['slices eggplant', 'extravirgin olive', 'garlic', 'slice wheat bread', 'slices tomato', 'parmesan', 'cucumber', 'lemons', 'parsley', 'garnish'])\n",
      "Row(ingredients=['sweet hungarian paprika', 'kosher', 'cayenne', 'piece beef brisket', 'preferably point', 'quick bbq sauce', 'follows', 'vegetable', 'onion', 'garlic', 'tomato paste', 'flakes', 'ham hocks', 'tomatoes', 'wine vinegar', 'kosher'])\n",
      "Row(ingredients=['onion', 'garlic', 'cumin', 'oregano', 'extravirgin olive', 'kosher', 'one tomatoes', 'lowsodium beef', 'jarred peppers', 'soy sauce', 'bay leaf', 'flank steak', 'along grain', 'pimentostuffed olives', 'cilantro leaves', 'rice', 'serving'])\n",
      "Row(ingredients=['currants', 'brandy', 'additional glazing buns', 'butter', 'pecans', 'cream biscuit dough', 'cinnamon'])\n",
      "Row(ingredients=['onion', 'garlic', 'cube gingerroot', 'jalapeno', 'soy sauce', 'peanut cottonseed', 'leg lamb including pelvic shank bones', 'boned butterflied'])\n",
      "Row(ingredients=['thicksliced bacon', 'crosswise', 'wine', 'shallot', 'cream', 'dijonstyle mustard', 'cabbage', 'cabbage', 'wine vinegar', 'roquefort'])\n",
      "Row(ingredients=['oranges', 'lemon', 'lime', 'grape juice', 'seltzer'])\n",
      "Row(ingredients=['beets', 'shallot', 'extravirgin olive', 'eyeball'])\n",
      "Row(ingredients=[])\n",
      "Row(ingredients=['quickcooking barley', 'worcestershire sauce', 'pork tenderloin', 'chunks', 'kosher', 'lowsodium chicken', 'vegetable', 'cremini mushrooms', 'leeks parts', 'carrots', 'parsley', 'topping'])\n",
      "Row(ingredients=['shots', 'shots vanilla vodka', 'shots chocolate', 'shot hazelnut'])\n",
      "Row(ingredients=['tea bags tea', 'coconut chips', 'ginger flakes', 'cardamom pods', 'cinnamon', 'leftover', 'empty vanilla bean'])\n",
      "Row(ingredients=['extra virgin olive', 'high quality finishing', 'garnish', 'onion', 'kosher', 'flakes', 'garlic', 'wine', 'summer tomatoes', 'basil leaves', 'half half chiffonade', 'tomato juice', 'dayold bread', 'crusts', 'parmigianoreggiano'])\n",
      "Row(ingredients=['butter', 'olive', 'onions', 'sirloin steak', 'bourbon'])\n",
      "Row(ingredients=['sushi rice', 'nori', 'avocado', 'carrot', 'eggplant japanese', 'tofu made crisp', 'tomato', 'cucumber chinesewithout seeds', 'regular also ok', 'asparagus', 'aburage inari tofu skins', 'wilted spinach', 'bell peppers', 'scallions', 'snow peas', 'sesame seeds', 'sesame seeds', 'sesame seedssalt combination', 'grain rice', 'rice vinegar'])\n",
      "Row(ingredients=['vegetable', 'shiitake mushrooms', 'peas', 'carrot', 'jasmine rice', 'chilled', 'lotus leaves see cooks note', 'lotus seeds', 'popped rubbery shell', 'lotus flower garnish', 'steaming', 'soy sauce chile'])\n",
      "Row(ingredients=['rice', 'grain', 'butter', 'kosher'])\n",
      "Row(ingredients=['asparagus', 'ends', 'slices bacon', 'butter', 'soy sauce', 'garlic'])\n",
      "Row(ingredients=['celery', 'ice', 'shot vodka recommended absolut', 'shot vodka', 'shot tomato juice', 'dash olive juice', 'olives'])\n",
      "Row(ingredients=['thin pickled herring fillets', 'potato', 'onion', 'dill pickle', 'apple', 'mayonnaise', 'butter', 'thin slices bread', 'leaf lettuce'])\n",
      "Row(ingredients=['unbleached flour', 'dark', 'cinnamon', 'ginger', 'oldfashioned rolled oats', 'eggs', 'vegetable', 'vanilla extract', 'zucchini zucchini', 'turbinado crystallized'])\n",
      "Row(ingredients=['spicy mustard', 'balsamic vinegar', 'olive', 'kosher', 'sauce', 'portobello mushroom caps', 'slices gouda cheese', 'mayonnaise', 'hamburger rolls', 'onion', 'leaves butter lettuce', 'tomato'])\n",
      "Row(ingredients=['four cod fillets', 'kosher', 'canola', 'shiitake mushroom quinoa', 'follows', 'slices oven tomato', 'follows', 'arugula', 'follows', 'bacon balsamic vinaigrette', 'follows', 'summer corn milk', 'follows', 'canola', 'shiitake mushrooms', 'stems thin', 'quinoa', 'chicken', 'kosher', 'sweet butter', 'heirloom tomato', 'slices', 'kosher', 'bay leaf', 'garlic', 'sprigs thyme', 'picked stem', 'extravirgin olive', 'canola', 'arugula', 'kosher', 'thin slices bacon', 'balsamic vinegar modena', 'italy', 'sweet butter', 'ears corn', 'preferably picked day', 'chives', 'sweet butter', 'kosher'])\n",
      "Row(ingredients=['softshell clams', 'cornmeal', 'rib celery', 'sprigs parsley', 'butter', 'serving'])\n",
      "Row(ingredients=['lentils', 'bacon', 'scallions', 'garlic', 'grain mustard', 'lemon juice', 'olive', 'flatleaf parsley', 'salmon'])\n",
      "Row(ingredients=['extravirgin olive', 'chicken breast', 'kosher', 'pearl barley', 'reducedsodium chicken', 'bay leaf', 'carrot', 'rib celery', 'zucchini'])\n",
      "Row(ingredients=['chickens', 'lbs', 'giblets reserved', 'lemon', 'sea', 'cilantro', 'parsley', 'tbsp garlic', 'tbsp ginger', 'tsp saffron threads', 'preserved lemon', 'olive', 'onions', 'tbsp paprika', 'tbsp butter', 'violet olives', 'preserved lemon peel', 'garnish'])\n",
      "Row(ingredients=['ice', 'dark rum', 'juice', 'slices garnish', 'lemon juice', 'pineapple juice', 'grenadine'])\n",
      "Row(ingredients=[])\n",
      "Row(ingredients=['onion', 'extravirgin olive', 'lean lamb', 'garlic clove', 'oregano', 'cinnamon', 'eggplant', 'tomatoes', 'butter', 'flour', 'milk', 'garlic clove', 'clove', 'feta cheese', 'eggs', 'penne'])\n",
      "Row(ingredients=['butter', 'scallions', 'longgrain rice', 'parsley', 'lemon zest'])\n",
      "Row(ingredients=['pork shoulder', 'kosher', 'onion', 'sprigs thyme thyme', 'oregano preferably mexican', 'bay leaves', 'peppercorns', 'corn husks', 'cumin', 'chili powder', 'clove garlic', 'flour', 'vegetable', 'masa harina corn flour'])\n",
      "Row(ingredients=['zest oranges', 'juice', 'vanilla bean', 'split lengthwise', 'figs', 'stems lengthwise'])\n",
      "Row(ingredients=['cream', 'corn', 'jasmine tea', 'chocolate', 'milk chocolate', 'rum'])\n",
      "Row(ingredients=['shallot', 'mayonnaise', 'wine vinegar', 'grinds', 'olive', 'leaf lettuce', 'washed', 'chiffonade'])\n",
      "Row(ingredients=['croissants', 'horizontally', 'leftover billies houdini chicken salad', 'follows', 'arugula', 'avocados', 'tomatoes', 'slices cheddar', 'chicken breasts', 'plain greek yogurt', 'seedless grapes', 'preferably concord', 'almonds', 'pecans', 'cranberries', 'apples', 'onion', 'bread crackers', 'serving'])\n",
      "Row(ingredients=[])\n",
      "Row(ingredients=['butter', 'sleeve saltine crackers onequarter'])\n",
      "Row(ingredients=[])\n",
      "Row(ingredients=['one vanillaflavored boxed cake', 'sweetened milk', 'key lime juice', 'cream', 'cayenne', 'garnish', 'zest limes', 'garnish'])\n",
      "Row(ingredients=['cupcake liners', 'nonstick spray', 'pkg oz cream cheese', 'flour', 'vanilla extract', 'eggs', 'libbys pumpkin', 'gingerbread latte pumpkin flavor nestl coffeemate liquid coffee creamer', 'cinnamon'])\n",
      "Row(ingredients=[])\n",
      "Row(ingredients=['sea cracked', 'ribeye steak'])\n",
      "Row(ingredients=['mcintosh empire apples', 'lemon juice', 'oatmeal rolled oats', 'nutmeg', 'healthy grating', 'cinnamon', 'butter', 'golden raisins', 'walnuts walnut pecans', 'dulce leche caramel ice cream caramel swirl ice cream', 'whipped cream', 'canister'])\n",
      "Row(ingredients=['cabbage', 'canola', 'sea', 'mace', 'balsamic vinegar', 'wine', 'bay leaves', 'cranberries'])\n",
      "Row(ingredients=['oz crown royal', 'oz heated cider', 'oz', 'oz lemon juice', 'sprinkle cinnamon', 'piece cinnamon'])\n",
      "Row(ingredients=['vegetable', 'turns pan', 'onion', 'garlic', 'poblano anaheim peppers', 'carrots', 'pouches produce department', 'chicken', 'chicken tenders chunks', 'bundles bean thread noodles', 'usually bundles one recommended kame', 'cilantro leaves', 'basil leaves', 'lime'])\n",
      "Row(ingredients=['chicken', 'pinches saffron', 'extravirgin olive', 'chorizo', 'casings remove', 'chicken thighs breast tenders', 'mushrooms', 'onion', 'garlic', 'bay leaf', 'thyme leaves', 'rounded flour', 'sherry', 'biscuit prepare drop biscuits', 'directions', 'recommended jiffy', 'flatleaf parsley', 'paprika'])\n",
      "Row(ingredients=['milk', 'zest lemon', 'flour', 'egg yolks', 'butter', 'lemon juice', 'vanilla extract', 'egg whites', 'lemon juice lemon', 'flour', 'butter', 'chilled', 'amaretti diameter vanilla cookies', 'almonds'])\n",
      "Row(ingredients=[])\n",
      "Row(ingredients=['pears', 'lemon juice', 'butter', 'sage leaves', 'cheese bruschetta', 'follows', 'loaf walnut bread raisin bread', 'butter', 'cheese'])\n",
      "Row(ingredients=['canola', 'eggs', 'worcestershire sauce', 'sauce'])\n",
      "Row(ingredients=['ancho chili powder', 'spanish paprika', 'oregano', 'coriander', 'mustard', 'cumin', 'kosher', 'chile arbol', 'pork shoulder', 'chicken', 'rice wine vinegar', 'dijon mustard', 'peppercorns', 'canolaolive blend', 'onions', 'wine vinegar', 'serrano chiles', 'mayonnaise', 'olive', 'cabbage', 'onion', 'cilantro leaves', 'hamburger buns', 'serving'])\n",
      "Row(ingredients=['almond flour', 'quickcooking oats', 'maple', 'flour', 'cinnamon', 'butter', 'apples', 'pomegranate seeds', 'lemon juice lemon', 'maple', 'cinnamon'])\n",
      "Row(ingredients=['vegetable', 'garlic clove', 'jalapeno', 'onions', 'sazon', 'pinto beans', 'lime'])\n",
      "Row(ingredients=['stale french bread', 'milk', 'eggs', 'vanilla extract', 'cinnamon', 'nutmeg', 'butter', 'slightly cooled', 'sultana raisins', 'egg yolks', 'butter', 'bourbon whiskey'])\n",
      "Row(ingredients=['flank steak', 'garlic', 'balsamic vinegar', 'butter'])\n",
      "Row(ingredients=['butter', 'cream cheese', 'vanilla extract', 'almond extract', 'nutmeg', 'eggs', 'graham cracker crumbs pulse graham crackers food processor'])\n",
      "Row(ingredients=['bonein chicken breasts', 'olive', 'carrot', 'onions', 'veal', 'button mushrooms', 'shallots', 'cognac', 'wine', 'tarragon'])\n",
      "Row(ingredients=['citron vodka', 'lemonade', 'recommended country time', 'pineapple juice', 'lemonlime flavored carbonated beverage', 'garnish sanding'])\n",
      "Row(ingredients=['bacon', 'rye bread', 'turkey', 'lettuce', 'tomato', 'mayonnaise', 'chipotle', 'avocado', 'juice lime', 'vinegar', 'mayonnaise', 'sour cream', 'celery seed', 'cabbage'])\n",
      "Row(ingredients=['quinoa', 'well', 'kosher', 'oranges', 'tangerines', 'apple cider vinegar', 'coriander seeds', 'butter', 'sea scallops', 'tough foot muscles', 'extravirgin olive', 'parsley chives'])\n",
      "Row(ingredients=['butter', 'bing cherries', 'freshlysqueezed juice', 'kirsch', 'triple sec', 'cinnamon', 'vanilla ice cream'])\n",
      "Row(ingredients=['chicken wings', 'lemon juice', 'flour', 'paprika', 'cumin', 'thyme', 'beer dark', 'vegetable', 'vegetable deepfrying', 'parsley sprigs garnish', 'apricot mustard sauce see', 'cheese see', 'apricot', 'dijonstyle mustard', 'wine vinegar', 'olive', 'cream', 'cheese', 'drops lemon juice'])\n",
      "Row(ingredients=['one bag ruffled potato chips', 'sauce use milder one franks', 'one cheese'])\n",
      "Row(ingredients=['shots espresso', 'strong coffee', 'ice', 'sweetened milk', 'whipped topping', 'topping', 'chocolate', 'topping', 'chocolate chips'])\n",
      "Row(ingredients=['peppers', 'extravirgin olive', 'wine vinegar', 'garlic', 'basil leaves', 'oregano leaves', 'mussels recommended penn cove', 'manila clams', 'prawns', 'sea scallops', 'halibut', 'salmon', 'olive', 'sauteing', 'romaine lettuce', 'field greens', 'vegetables'])\n",
      "Row(ingredients=['flour', 'kosher', 'butter', 'vegetable recommended crisco', 'ice', 'egg whites', 'cream tartar', 'lemon filling', 'follows', 'butter', 'eggs', 'egg yolks save whites meringue', 'lemon zest lemons', 'lemon juice', 'kosher'])\n",
      "Row(ingredients=['butter', 'egg yolks', 'lemon juice', 'chipotle'])\n",
      "Row(ingredients=['chicken', 'cool', 'carrots', 'celery', 'onion', 'garlic', 'horizontally', 'turnips', 'thyme sprigs', 'rosemary sprigs', 'bay leaf', 'butter', 'flour', 'sea', 'carrots', 'circles', 'bag pearl onions', 'see note', 'peas', 'see note', 'leaves parsley sprigs', 'puff pastry sheets', 'egg', 'parmigianoreggiano'])\n",
      "Row(ingredients=['butter', 'stone cornmeal', 'flour', 'kosher', 'milk', 'buttermilk', 'egg', 'jack cheese', 'corn kernels', 'poblano peppers'])\n",
      "Row(ingredients=['olive', 'wine vinegar', 'wine', 'garlic', 'artichokes', 'parsley'])\n",
      "Row(ingredients=['wine', 'littleneck clams', 'thin slices bacon', 'bread crumbs', 'butter', 'garlic', 'parsley leaves', 'parmesan', 'jalapenos'])\n",
      "Row(ingredients=['mint leaves', 'cilantro parsley leaves', 'wine vinegar', 'kosher', 'ears corn', 'husks silks', 'olive canola', 'canola', 'greens', 'scallions', 'pale parts', 'feta farmers cheese'])\n",
      "Row(ingredients=['baking potatoes', 'canola', 'cheddar', 'sour cream', 'bacon bits', 'butter', 'chives'])\n",
      "Row(ingredients=['tomatillos', 'husked', 'washed', 'dice', 'onions', 'diagonal', 'cilantro', 'leaves', 'jalapeno chile', 'lime juice', 'olive', 'beef marrow leg bones', 'approximately inches', 'corn tortillas', 'vegetable', 'avocado', 'serving', 'flaked sea'])\n",
      "Row(ingredients=['cream', 'invert corn', 'glucose', 'vanilla bean', 'split seeds scraped', 'gianduja chocolate', 'butter', 'serving suggestions graham cracker crumbles', 'chocolate sandwich cookie crumbles cookie crumbles'])\n",
      "Row(ingredients=['sheets puff pastry dough', 'figs', 'eggs', 'goat cheese', 'strawberries', 'vanilla bean', 'balsamic vinegar', 'clove', 'micro greens'])\n",
      "Row(ingredients=['bliss potatoes', 'dice', 'cover', 'heaping', 'heaping', 'pork', 'spanish onion', 'quahogs', 'quahog juice', 'heaping thyme'])\n",
      "Row(ingredients=['ancho chile', 'coffee', 'blueberries', 'cranberries', 'garlic', 'chipotle chile', 'onion', 'ketchup', 'coffee', 'wine', 'dijon mustard', 'cinnamon'])\n",
      "Row(ingredients=[])\n",
      "Row(ingredients=['limes', 'watermelon', 'seeds', 'vanilla extract', 'currants', 'empty icecube trays'])\n",
      "Row(ingredients=['wine', 'sherry vinegar', 'olive', 'buttermilk', 'egg', 'vegetable', 'leeks', 'flour', 'garlic', 'shallots', 'cracked', 'sherry vinegar', 'olive', 'bunches watercress', 'stemmed', 'duck breasts', 'scallops', 'pecans', 'cheddar cheese'])\n",
      "Row(ingredients=['vegetable', 'pan', 'flour', 'pan', 'plain malted milk powder carnation', 'unsweetened cocoa powder', 'topping', 'cinnamon', 'allspice', 'nutmeg', 'eggs', 'separated', 'milk', 'frosting', 'egg egg yolks', 'butter', 'plain malted milk powder', 'vanilla extract', 'nutmeg'])\n",
      "Row(ingredients=['buckwheat', 'juice', 'figs', 'wooden skewers', 'minutes', 'mascarpone', 'pistachios'])\n",
      "Row(ingredients=['deveined shrimp', 'activatg kind meat glue', 'cayenne', 'yogurt paprika', 'follows', 'prawn crackers', 'follows', 'yogurt minutes', 'sweet paprika', 'vegetable deep', 'prawn crackers', 'tomato powder'])\n",
      "Row(ingredients=['quick kimchi', 'napa cabbage', 'kosher', 'garlic', 'serrano chiles', 'depending spicy like', 'piece ginger', 'asian fish sauce', 'rice vinegar', 'onions', 'pale', 'sesame seeds', 'cola soda recommended coke', 'soy sauce', 'rice vinegar', 'sesame', 'garlic', 'cilantro', 'pork shoulder steak', 'boston lettuce leaves', 'kojuchang sauce', 'kochujang', 'garlic', 'rice vinegar', 'soy sauce', 'sesame', 'sesame seeds', 'onions', 'lengthwise crosswise'])\n",
      "Row(ingredients=['envelopes active', 'milk', 'lukewarm', 'flour', 'work surface', 'extravirgin olive', 'drizzling', 'rosemary leaves', 'grapes', 'golden raisins', 'kosher', 'lemon zest', 'egg', 'well'])\n",
      "Row(ingredients=['ice', 'slice jalapeno', 'piece', 'lime juice', 'lemon juice', 'tequila blanco agave', 'celery', 'garnish'])\n",
      "Row(ingredients=['butter', 'cinnamon', 'apple', 'thin slices', 'pear', 'thin slices', 'tequila', 'flour tortillas', 'vegetable', 'vanilla ice cream'])\n",
      "Row(ingredients=['coconut milk', 'stalk lemon grass', 'kaffir lime leaves', 'lemon juice', 'block halibut', 'olive', 'chinese cabbage', 'rice wine vinegar', 'mirin', 'sesame seeds'])\n",
      "Row(ingredients=['heads garlic', 'cutup chicken', 'olive', 'onion', 'wine', 'thyme', 'chicken'])\n",
      "Row(ingredients=['sheet puff pastry', 'egg', 'shaker', 'cream', 'whipped', 'fruit clementine sections', 'kiwi', 'strawberries', 'blueberries', 'karat leaf'])\n",
      "Row(ingredients=['ears corn', 'heads belgian endive', 'olive', 'cilantro', 'leaves', 'onion', 'feta', 'lime', 'cumin', 'cayenne'])\n",
      "Row(ingredients=['plum tomatoes', 'zucchini', 'shallots', 'olive', 'parsley', 'thyme', 'gruyere'])\n",
      "Row(ingredients=['olive', 'butter', 'garlic', 'shallot', 'bell', 'deveined', 'thin slices', 'bell', 'deveined', 'thin slices', 'bell', 'deveined', 'thin slices', 'redpepper flakes', 'coarse', 'basil leaves', 'well washed', 'pasta', 'follows', 'parmesan', 'serving', 'bell', 'extravirgin olive', 'flour', 'eggs', 'coarse'])\n",
      "Row(ingredients=['butter', 'chocolate', 'eggs', 'egg yolks', 'flour', 'butter', 'pan', 'flour', 'pan'])\n",
      "Row(ingredients=['restaurantstyle crab bisque recommended bookbinders', 'cream', 'lemon juice', 'parsley leaves', 'crabmeat', 'picked', 'cayenne'])\n"
     ]
    }
   ],
   "source": [
    "for i in df.select('ingredients').collect():\n",
    "    print(i)"
   ]
  },
  {
   "cell_type": "markdown",
   "metadata": {
    "application/vnd.databricks.v1+cell": {
     "cellMetadata": {
      "byteLimit": 2048000,
      "rowLimit": 10000
     },
     "inputWidgets": {},
     "nuid": "c400fc9d-9bc7-4e2b-8ef8-532c871601d7",
     "showTitle": false,
     "title": ""
    }
   },
   "source": [
    "#### Recipe Recommendation"
   ]
  },
  {
   "cell_type": "markdown",
   "metadata": {
    "application/vnd.databricks.v1+cell": {
     "cellMetadata": {
      "byteLimit": 2048000,
      "rowLimit": 10000
     },
     "inputWidgets": {},
     "nuid": "7e66bd3c-9309-4248-a697-a5253c5b36f3",
     "showTitle": false,
     "title": ""
    }
   },
   "source": [
    "User input ingredients"
   ]
  },
  {
   "cell_type": "code",
   "execution_count": 0,
   "metadata": {
    "application/vnd.databricks.v1+cell": {
     "cellMetadata": {
      "byteLimit": 2048000,
      "rowLimit": 10000
     },
     "inputWidgets": {},
     "nuid": "cae26273-298a-43f2-85fa-b37e371e31a1",
     "showTitle": false,
     "title": ""
    }
   },
   "outputs": [],
   "source": [
    "user_input = \"eggs, butter, flour, milk\"\n",
    "input_ingredient = user_input.split(\", \")"
   ]
  },
  {
   "cell_type": "markdown",
   "metadata": {
    "application/vnd.databricks.v1+cell": {
     "cellMetadata": {
      "byteLimit": 2048000,
      "rowLimit": 10000
     },
     "inputWidgets": {},
     "nuid": "71b23bef-8678-4bd9-bf52-ce21f9079d50",
     "showTitle": false,
     "title": ""
    }
   },
   "source": [
    "1. Word Embeddings Using Word2Vec"
   ]
  },
  {
   "cell_type": "code",
   "execution_count": 0,
   "metadata": {
    "application/vnd.databricks.v1+cell": {
     "cellMetadata": {
      "byteLimit": 2048000,
      "rowLimit": 10000
     },
     "inputWidgets": {},
     "nuid": "576a81bc-3694-4e33-a36d-9e64a6e28bc2",
     "showTitle": false,
     "title": ""
    }
   },
   "outputs": [],
   "source": [
    "from pyspark.sql.functions import array_contains, col\n",
    "condition = col(\"ingredients\").isNull()\n",
    "for ingredient in input_ingredient:\n",
    "    condition = condition | array_contains(\"ingredients\", ingredient)\n",
    "\n",
    "df = df.filter(condition)"
   ]
  },
  {
   "cell_type": "code",
   "execution_count": 0,
   "metadata": {
    "application/vnd.databricks.v1+cell": {
     "cellMetadata": {
      "byteLimit": 2048000,
      "rowLimit": 10000
     },
     "inputWidgets": {},
     "nuid": "080f953c-67b8-4406-b58a-b4b4a05e5f69",
     "showTitle": false,
     "title": ""
    }
   },
   "outputs": [],
   "source": [
    "from pyspark.ml.feature import Word2Vec, IDF\n",
    "from pyspark.ml.linalg import Vectors\n",
    "from pyspark.sql.functions import explode, collect_list, udf\n",
    "from pyspark.sql.types import FloatType\n",
    "\n",
    "word2Vec = Word2Vec(vectorSize=100, minCount=5, inputCol=\"ingredients\", outputCol=\"ingredient_vec\")\n",
    "model = word2Vec.fit(df)\n",
    "df = model.transform(df)"
   ]
  },
  {
   "cell_type": "markdown",
   "metadata": {
    "application/vnd.databricks.v1+cell": {
     "cellMetadata": {
      "byteLimit": 2048000,
      "rowLimit": 10000
     },
     "inputWidgets": {},
     "nuid": "c07f5a42-334c-4446-b75b-fe58c49e8d66",
     "showTitle": false,
     "title": ""
    }
   },
   "source": [
    "2. Using TF-IDF to calculate weights of ingredients"
   ]
  },
  {
   "cell_type": "code",
   "execution_count": 0,
   "metadata": {
    "application/vnd.databricks.v1+cell": {
     "cellMetadata": {
      "byteLimit": 2048000,
      "rowLimit": 10000
     },
     "inputWidgets": {},
     "nuid": "d75bebbd-f4ba-4584-9cb3-60a74cf1e54e",
     "showTitle": false,
     "title": ""
    }
   },
   "outputs": [],
   "source": [
    "# Calculate the IDF weights for each ingredient in the \"ingredients\" column\n",
    "idf = IDF(inputCol=\"ingredient_vec\", outputCol=\"ingredient_idf\")\n",
    "idfModel = idf.fit(df)\n",
    "df = idfModel.transform(df)"
   ]
  },
  {
   "cell_type": "code",
   "execution_count": 0,
   "metadata": {
    "application/vnd.databricks.v1+cell": {
     "cellMetadata": {
      "byteLimit": 2048000,
      "rowLimit": 10000
     },
     "inputWidgets": {},
     "nuid": "354f926d-0789-41a3-895d-0374cebf1cd8",
     "showTitle": false,
     "title": ""
    }
   },
   "outputs": [],
   "source": [
    "from pyspark.ml.linalg import Vectors, VectorUDT\n",
    "from pyspark.sql.functions import udf\n",
    "\n",
    "# Define a UDF to calculate the weighted average of ingredient vectors\n",
    "@udf(returnType=VectorUDT())\n",
    "def weighted_avg_udf(ingredient_vec, ingredient_idf):\n",
    "    n = len(ingredient_vec)\n",
    "    weights = [ingredient_idf[i] for i in range(n)]\n",
    "    weighted_avg = [ingredient_vec[i] * weights[i] for i in range(n)]\n",
    "    return Vectors.dense(sum(weighted_avg))\n"
   ]
  },
  {
   "cell_type": "code",
   "execution_count": 0,
   "metadata": {
    "application/vnd.databricks.v1+cell": {
     "cellMetadata": {
      "byteLimit": 2048000,
      "rowLimit": 10000
     },
     "inputWidgets": {},
     "nuid": "e2c015bd-5a67-4d46-95ec-d487df1146fd",
     "showTitle": false,
     "title": ""
    }
   },
   "outputs": [],
   "source": [
    "# Group the DataFrame by \"title\" and calculate the weighted average of ingredient vectors for each recipe\n",
    "df = df.groupBy(\"title\") \\\n",
    "       .agg(collect_list(\"ingredients\").alias(\"ingredients\"),\n",
    "            collect_list(\"instructions\").alias(\"instruction\"),\n",
    "            weighted_avg_udf(collect_list(\"ingredient_vec\"), collect_list(\"ingredient_idf\")).alias(\"recipe_vec\"))"
   ]
  },
  {
   "cell_type": "code",
   "execution_count": 0,
   "metadata": {
    "application/vnd.databricks.v1+cell": {
     "cellMetadata": {
      "byteLimit": 2048000,
      "rowLimit": 10000
     },
     "inputWidgets": {},
     "nuid": "c91c8144-6aef-45c4-959a-d8f0eb6ab1a5",
     "showTitle": false,
     "title": ""
    }
   },
   "outputs": [],
   "source": [
    "from pyspark.ml.linalg import Vectors, VectorUDT\n",
    "\n",
    "# Define a UDF to calculate the cosine similarity between two vectors\n",
    "@udf(returnType=FloatType())\n",
    "def cosine_similarity_udf(v1, v2):\n",
    "    v1_sparse = Vectors.sparse(len(v1), [(i, v1[i]) for i in range(len(v1))])\n",
    "    v2_sparse = Vectors.sparse(len(v2), [(i, v2[i]) for i in range(len(v2))])\n",
    "    return float(v1_sparse.dot(v2_sparse) / (v1_sparse.norm(2) * v2_sparse.norm(2)))\n",
    "  \n"
   ]
  },
  {
   "cell_type": "code",
   "execution_count": 0,
   "metadata": {
    "application/vnd.databricks.v1+cell": {
     "cellMetadata": {
      "byteLimit": 2048000,
      "rowLimit": 10000
     },
     "inputWidgets": {},
     "nuid": "8c317be7-51d2-42fe-8fdf-63cb7f4a52f8",
     "showTitle": false,
     "title": ""
    }
   },
   "outputs": [],
   "source": [
    "# Create a DataFrame with the input ingredient as a vector\n",
    "input_df = spark.createDataFrame([(input_ingredient,)], [\"ingredients\"])\n",
    "input_df = model.transform(input_df)\n",
    "input_df = idfModel.transform(input_df)"
   ]
  },
  {
   "cell_type": "code",
   "execution_count": 0,
   "metadata": {
    "application/vnd.databricks.v1+cell": {
     "cellMetadata": {
      "byteLimit": 2048000,
      "rowLimit": 10000
     },
     "inputWidgets": {},
     "nuid": "d85dc846-13be-43a5-a4b1-8f477a28bf9c",
     "showTitle": false,
     "title": ""
    }
   },
   "outputs": [],
   "source": [
    "# Calculate the weighted average of the input ingredient vector\n",
    "input_vec = input_df.select(weighted_avg_udf(collect_list(\"ingredient_vec\"), collect_list(\"ingredient_idf\")).alias(\"input_vec\")).first().input_vec"
   ]
  },
  {
   "cell_type": "markdown",
   "metadata": {
    "application/vnd.databricks.v1+cell": {
     "cellMetadata": {
      "byteLimit": 2048000,
      "rowLimit": 10000
     },
     "inputWidgets": {},
     "nuid": "59992e87-8efb-46d1-b0ac-8733ddb41860",
     "showTitle": false,
     "title": ""
    }
   },
   "source": [
    "3. Calculate the cosine similarity between the input vector and recipe vectors"
   ]
  },
  {
   "cell_type": "code",
   "execution_count": 0,
   "metadata": {
    "application/vnd.databricks.v1+cell": {
     "cellMetadata": {
      "byteLimit": 2048000,
      "rowLimit": 10000
     },
     "inputWidgets": {},
     "nuid": "4571f468-e903-41d1-9af1-e3e9c5787a19",
     "showTitle": false,
     "title": ""
    }
   },
   "outputs": [],
   "source": [
    "# Calculate the cosine similarity between the input vector and recipe vectors\n",
    "\n",
    "from pyspark.sql.functions import lit\n",
    "input_list = input_vec.tolist()\n",
    "input_col = lit(input_list)\n",
    "\n",
    "\n",
    "# calculate cosine similarity between input vector and recipe vector\n",
    "df = df.withColumn(\"similarity\", cosine_similarity_udf(col(\"recipe_vec\"), input_col))\n",
    "\n"
   ]
  },
  {
   "cell_type": "markdown",
   "metadata": {
    "application/vnd.databricks.v1+cell": {
     "cellMetadata": {
      "byteLimit": 2048000,
      "rowLimit": 10000
     },
     "inputWidgets": {},
     "nuid": "3a2d73a4-1503-4bf3-8f7e-4589a44263e8",
     "showTitle": false,
     "title": ""
    }
   },
   "source": [
    "4. Top 5 recipes based on similarity score"
   ]
  },
  {
   "cell_type": "code",
   "execution_count": 0,
   "metadata": {
    "application/vnd.databricks.v1+cell": {
     "cellMetadata": {
      "byteLimit": 2048000,
      "rowLimit": 10000
     },
     "inputWidgets": {},
     "nuid": "ee65e594-e07d-4f26-822f-5aa5e7dda838",
     "showTitle": false,
     "title": ""
    }
   },
   "outputs": [],
   "source": [
    "# Rank the recipes based on similarity score and select the top recommendations\n",
    "top_recs = df.orderBy(col(\"similarity\").desc()).select(\"title\", \"ingredients\", \"instruction\").limit(5)"
   ]
  },
  {
   "cell_type": "code",
   "execution_count": 0,
   "metadata": {
    "application/vnd.databricks.v1+cell": {
     "cellMetadata": {
      "byteLimit": 2048000,
      "rowLimit": 10000
     },
     "inputWidgets": {},
     "nuid": "dfa6b96f-c383-441f-a994-afa7b180786f",
     "showTitle": false,
     "title": ""
    }
   },
   "outputs": [
    {
     "name": "stdout",
     "output_type": "stream",
     "text": [
      "+--------------------------------+--------------------------------------------------------------------------+-------------------------------------------------------------------------------------------------------------------------------------------------------------------------------------------------------------------------------------------------------------------------------------------------------------------------------------------------------------------------------------------------------------------------------------------------------------------------------------------------------------------------------------------------------------------------------------------------------------------------------------------------------------------------------------------------------------------------------------------------------------------------------------------------------------------------------------------------------------------------------------------------------------------------------------------------------------------------------------------------------------------------------------------------------------------------------------------------------+\n",
      "|title                           |ingredients                                                               |instruction                                                                                                                                                                                                                                                                                                                                                                                                                                                                                                                                                                                                                                                                                                                                                                                                                                                                                                                                                                                                                                                                                            |\n",
      "+--------------------------------+--------------------------------------------------------------------------+-------------------------------------------------------------------------------------------------------------------------------------------------------------------------------------------------------------------------------------------------------------------------------------------------------------------------------------------------------------------------------------------------------------------------------------------------------------------------------------------------------------------------------------------------------------------------------------------------------------------------------------------------------------------------------------------------------------------------------------------------------------------------------------------------------------------------------------------------------------------------------------------------------------------------------------------------------------------------------------------------------------------------------------------------------------------------------------------------------+\n",
      "|German Pancakes II              |[[butter, flour, milk, eggs]]                                             |[Preheat oven to 350 degrees F (175 degrees C). Melt butter in a medium baking dish.\\nIn a medium bowl, mix flour, milk, eggs and salt. Pour the mixture into the prepared baking dish.\\nBake on center rack in the preheated oven for 30 to 40 minutes, until golden brown.\\n]                                                                                                                                                                                                                                                                                                                                                                                                                                                                                                                                                                                                                                                                                                                                                                                                                        |\n",
      "|Finnish Kropser (Baked Pancakes)|[[eggs, milk, flour, butter]]                                             |[Preheat oven to 450 degrees F (230 degrees C)\\nIn a medium bowl stir together sugar, flour, and salt. Add eggs and milk. Beat with an electric mixer until blended. Batter will be very thin. Melt butter in the baking pan. Turn the pan to be sure all of the sides are coated then stir the remaining butter into the batter.\\nPour batter into the baking pan and bake for 30 minutes. It will puff up when baking, and flatten when cool.Cut into squares and serve.\\n]                                                                                                                                                                                                                                                                                                                                                                                                                                                                                                                                                                                                                          |\n",
      "|Authentic Swedish Pancakes      |[[eggs, milk, flour, butter]]                                             |[Beat eggs in a bowl with an electric mixer until thick and lemon-colored, 3 to 5 minutes. Stir in milk.\\nSift flour, sugar, and salt together in a bowl. Add to egg mixture; mix until batter is smooth.\\nGrease a griddle with butter; heat over medium heat. Drop tablespoonfuls of batter on the griddle; spread to make thin pancakes. Cook until light brown on bottom, 1 to 2 minutes. Flip and continue cooking until second side is light brown, 1 to 2 minutes more. Repeat with remaining batter.\\n]                                                                                                                                                                                                                                                                                                                                                                                                                                                                                                                                                                                        |\n",
      "|Blintz Crepes                   |[[butter, eggs, milk, flour, grand marnier cointreau, spray food release]]|[Melt the butter and set aside. Using a blender, mix the eggs, milk and flour at low speed. Add the orange liquor. Once the batter is well mixed and coats the spoon with a thin film, refrigerate, covered for 1 hour in a pitcher or bowl.\\nStir the batter thoroughly and before making the crepes, test the liquid by dunking a spoon in the mixture; again, it should coat the spoon with a thin film. Adjust by adding milk.\\nUsing at least two and up to four 7 to 8-inch nonstick pans, spray with oil, and heat the pans over medium-high heat. Pour about one cup of batter to coat one pan. Once covered, pour the batter out and into the next heated pan, pouring the remainder back into the pitcher or bowl. The thin layer of batter that remains on the pans will make a smooth, flexible crepe. When the crepes pull away from the edge of the pan (10 to 30 seconds), remove from the heat, tap them lightly or run a knife across the edge of the pan to release, and invert the crepes on a dry towel to cool. Stir the batter at brief intervals to re-suspend the ingredients.]|\n",
      "|Crazy Cakes                     |[[flour, milk, eggs, butter]]                                             |[Preheat oven to 450 degrees F (230 degrees C).\\nIn a large bowl, stir together flour, milk and eggs; stir until smooth.\\nDrop butter into a 9x13 inch baking pan. Place the pan into preheated oven until butter has melted. Pour batter into pan. Bake for 15 to 20 minutes, until batter has set.\\n]                                                                                                                                                                                                                                                                                                                                                                                                                                                                                                                                                                                                                                                                                                                                                                                                |\n",
      "+--------------------------------+--------------------------------------------------------------------------+-------------------------------------------------------------------------------------------------------------------------------------------------------------------------------------------------------------------------------------------------------------------------------------------------------------------------------------------------------------------------------------------------------------------------------------------------------------------------------------------------------------------------------------------------------------------------------------------------------------------------------------------------------------------------------------------------------------------------------------------------------------------------------------------------------------------------------------------------------------------------------------------------------------------------------------------------------------------------------------------------------------------------------------------------------------------------------------------------------+\n",
      "\n"
     ]
    }
   ],
   "source": [
    "# Show the top recommendations\n",
    "top_recs.show(truncate=False)"
   ]
  }
 ],
 "metadata": {
  "application/vnd.databricks.v1+notebook": {
   "dashboards": [],
   "language": "python",
   "notebookMetadata": {
    "mostRecentlyExecutedCommandWithImplicitDF": {
     "commandId": -1,
     "dataframes": [
      "_sqldf"
     ]
    },
    "pythonIndentUnit": 4
   },
   "notebookName": "Spark NLP -- Recipe Recommendation",
   "widgets": {}
  },
  "kernelspec": {
   "display_name": "Python 3 (ipykernel)",
   "language": "python",
   "name": "python3"
  },
  "language_info": {
   "codemirror_mode": {
    "name": "ipython",
    "version": 3
   },
   "file_extension": ".py",
   "mimetype": "text/x-python",
   "name": "python",
   "nbconvert_exporter": "python",
   "pygments_lexer": "ipython3",
   "version": "3.9.13"
  }
 },
 "nbformat": 4,
 "nbformat_minor": 1
}
